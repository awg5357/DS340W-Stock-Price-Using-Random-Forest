{
  "nbformat": 4,
  "nbformat_minor": 0,
  "metadata": {
    "colab": {
      "name": "DS340W_Stock_Prediction_RFC_MSFT_Medium",
      "provenance": [],
      "collapsed_sections": []
    },
    "kernelspec": {
      "name": "python3",
      "display_name": "Python 3"
    },
    "language_info": {
      "name": "python"
    }
  },
  "cells": [
    {
      "cell_type": "markdown",
      "source": [
        "## Import Libraries"
      ],
      "metadata": {
        "id": "UZVQGtz3CEmN"
      }
    },
    {
      "cell_type": "code",
      "source": [
        "#pip install yfinance"
      ],
      "metadata": {
        "id": "-SV-D_paChTm"
      },
      "execution_count": null,
      "outputs": []
    },
    {
      "cell_type": "markdown",
      "source": [
        "#### The following libraries must be installed before getting started.\n",
        "\n",
        "**Pandas** — a python library that loads the data file as a pandas data frame for analyzing the data.\n",
        "\n",
        "**Matplotlib** — a python package for plotting graphs.\n",
        "\n",
        "**Scikit-learn** — an open-source python library used in data analysis that supports machine learning models, pre-processing, model evaluation, and training utilities. It also acts as a sub-library for train_test_split, RandomForestRegressor, StandardScaler, RandomizedSearchCV, and metrics.\n",
        "\n",
        "**Numpy** — a python library that works with arrays.\n",
        "\n",
        "**Yfinance** — a python open-source library used to access financial data."
      ],
      "metadata": {
        "id": "U4bsYjf7N5jQ"
      }
    },
    {
      "cell_type": "code",
      "execution_count": null,
      "metadata": {
        "id": "brJrC1Th4424"
      },
      "outputs": [],
      "source": [
        "#import yfinance as yf\n",
        "import datetime as dt\n",
        "import pandas as pd\n",
        "import numpy as np\n",
        "from numpy import arange\n",
        "import matplotlib.pyplot as plt\n",
        "from pandas import read_csv\n",
        "from sklearn import metrics\n",
        "from sklearn.model_selection import train_test_split\n",
        "from sklearn.ensemble import RandomForestRegressor\n",
        "from sklearn.preprocessing import StandardScaler\n",
        "from sklearn.model_selection import RandomizedSearchCV"
      ]
    },
    {
      "cell_type": "markdown",
      "source": [
        "## Import Dataset"
      ],
      "metadata": {
        "id": "BQoeEyyXCIBI"
      }
    },
    {
      "cell_type": "code",
      "source": [
        "from google.colab import drive\n",
        "\n",
        "drive.mount(\"/content/gdrive\")"
      ],
      "metadata": {
        "colab": {
          "base_uri": "https://localhost:8080/"
        },
        "id": "8xUKjW5FCCmO",
        "outputId": "1d27089a-0bc5-4dcb-e9f3-aa35d2e95b7d"
      },
      "execution_count": null,
      "outputs": [
        {
          "output_type": "stream",
          "name": "stdout",
          "text": [
            "Mounted at /content/gdrive\n"
          ]
        }
      ]
    },
    {
      "cell_type": "markdown",
      "source": [
        "#### These are what each column means in the csv\n",
        "\n",
        "**Date** - The stock value date\n",
        "\n",
        "**Open** - Open price of the stock, at the beginning of the trading day\n",
        "\n",
        "**High** - Highest point of the stock price, on a trading day\n",
        "\n",
        "**Low** - Lowest point of the stock price, on a trading day\n",
        "\n",
        "**Close** - Close price of the stock, at the end of a trading day\n",
        "\n",
        "**Adj Close** - Amended closing price for dividends of stock value the stock's \n",
        "value after distributing dividends\n",
        "\n",
        "**Volume** - Number of traded stocks in the market over a period"
      ],
      "metadata": {
        "id": "cfNVEffROW1_"
      }
    },
    {
      "cell_type": "code",
      "source": [
        "msft_df = pd.read_csv(\"/content/gdrive/MyDrive/DS 340W/Final Research Paper/Datasets/MSFT_5Y.csv\")\n",
        "msft_df = msft_df.dropna()\n",
        "msft_df = msft_df[['Date','Open', 'High', 'Low','Close','Adj Close','Volume']]\n",
        "msft_df.head()"
      ],
      "metadata": {
        "colab": {
          "base_uri": "https://localhost:8080/",
          "height": 250
        },
        "id": "WEEmNunBCCkx",
        "outputId": "322cd7cb-2762-4ddf-8ef6-0ec9ac359bd9"
      },
      "execution_count": null,
      "outputs": [
        {
          "output_type": "execute_result",
          "data": {
            "text/plain": [
              "         Date       Open       High        Low      Close  Adj Close    Volume\n",
              "0  2017-03-22  64.120003  65.139999  64.120003  65.029999  60.704510  20680000\n",
              "1  2017-03-23  64.940002  65.239998  64.769997  64.870003  60.555168  19269200\n",
              "2  2017-03-24  65.360001  65.449997  64.760002  64.980003  60.657841  22617100\n",
              "3  2017-03-27  64.629997  65.220001  64.349998  65.099998  60.769852  18614700\n",
              "4  2017-03-28  64.959999  65.470001  64.650002  65.290001  60.947208  20080400"
            ],
            "text/html": [
              "\n",
              "  <div id=\"df-6490e2c7-3fd9-4abd-af36-da8a2fa200be\">\n",
              "    <div class=\"colab-df-container\">\n",
              "      <div>\n",
              "<style scoped>\n",
              "    .dataframe tbody tr th:only-of-type {\n",
              "        vertical-align: middle;\n",
              "    }\n",
              "\n",
              "    .dataframe tbody tr th {\n",
              "        vertical-align: top;\n",
              "    }\n",
              "\n",
              "    .dataframe thead th {\n",
              "        text-align: right;\n",
              "    }\n",
              "</style>\n",
              "<table border=\"1\" class=\"dataframe\">\n",
              "  <thead>\n",
              "    <tr style=\"text-align: right;\">\n",
              "      <th></th>\n",
              "      <th>Date</th>\n",
              "      <th>Open</th>\n",
              "      <th>High</th>\n",
              "      <th>Low</th>\n",
              "      <th>Close</th>\n",
              "      <th>Adj Close</th>\n",
              "      <th>Volume</th>\n",
              "    </tr>\n",
              "  </thead>\n",
              "  <tbody>\n",
              "    <tr>\n",
              "      <th>0</th>\n",
              "      <td>2017-03-22</td>\n",
              "      <td>64.120003</td>\n",
              "      <td>65.139999</td>\n",
              "      <td>64.120003</td>\n",
              "      <td>65.029999</td>\n",
              "      <td>60.704510</td>\n",
              "      <td>20680000</td>\n",
              "    </tr>\n",
              "    <tr>\n",
              "      <th>1</th>\n",
              "      <td>2017-03-23</td>\n",
              "      <td>64.940002</td>\n",
              "      <td>65.239998</td>\n",
              "      <td>64.769997</td>\n",
              "      <td>64.870003</td>\n",
              "      <td>60.555168</td>\n",
              "      <td>19269200</td>\n",
              "    </tr>\n",
              "    <tr>\n",
              "      <th>2</th>\n",
              "      <td>2017-03-24</td>\n",
              "      <td>65.360001</td>\n",
              "      <td>65.449997</td>\n",
              "      <td>64.760002</td>\n",
              "      <td>64.980003</td>\n",
              "      <td>60.657841</td>\n",
              "      <td>22617100</td>\n",
              "    </tr>\n",
              "    <tr>\n",
              "      <th>3</th>\n",
              "      <td>2017-03-27</td>\n",
              "      <td>64.629997</td>\n",
              "      <td>65.220001</td>\n",
              "      <td>64.349998</td>\n",
              "      <td>65.099998</td>\n",
              "      <td>60.769852</td>\n",
              "      <td>18614700</td>\n",
              "    </tr>\n",
              "    <tr>\n",
              "      <th>4</th>\n",
              "      <td>2017-03-28</td>\n",
              "      <td>64.959999</td>\n",
              "      <td>65.470001</td>\n",
              "      <td>64.650002</td>\n",
              "      <td>65.290001</td>\n",
              "      <td>60.947208</td>\n",
              "      <td>20080400</td>\n",
              "    </tr>\n",
              "  </tbody>\n",
              "</table>\n",
              "</div>\n",
              "      <button class=\"colab-df-convert\" onclick=\"convertToInteractive('df-6490e2c7-3fd9-4abd-af36-da8a2fa200be')\"\n",
              "              title=\"Convert this dataframe to an interactive table.\"\n",
              "              style=\"display:none;\">\n",
              "        \n",
              "  <svg xmlns=\"http://www.w3.org/2000/svg\" height=\"24px\"viewBox=\"0 0 24 24\"\n",
              "       width=\"24px\">\n",
              "    <path d=\"M0 0h24v24H0V0z\" fill=\"none\"/>\n",
              "    <path d=\"M18.56 5.44l.94 2.06.94-2.06 2.06-.94-2.06-.94-.94-2.06-.94 2.06-2.06.94zm-11 1L8.5 8.5l.94-2.06 2.06-.94-2.06-.94L8.5 2.5l-.94 2.06-2.06.94zm10 10l.94 2.06.94-2.06 2.06-.94-2.06-.94-.94-2.06-.94 2.06-2.06.94z\"/><path d=\"M17.41 7.96l-1.37-1.37c-.4-.4-.92-.59-1.43-.59-.52 0-1.04.2-1.43.59L10.3 9.45l-7.72 7.72c-.78.78-.78 2.05 0 2.83L4 21.41c.39.39.9.59 1.41.59.51 0 1.02-.2 1.41-.59l7.78-7.78 2.81-2.81c.8-.78.8-2.07 0-2.86zM5.41 20L4 18.59l7.72-7.72 1.47 1.35L5.41 20z\"/>\n",
              "  </svg>\n",
              "      </button>\n",
              "      \n",
              "  <style>\n",
              "    .colab-df-container {\n",
              "      display:flex;\n",
              "      flex-wrap:wrap;\n",
              "      gap: 12px;\n",
              "    }\n",
              "\n",
              "    .colab-df-convert {\n",
              "      background-color: #E8F0FE;\n",
              "      border: none;\n",
              "      border-radius: 50%;\n",
              "      cursor: pointer;\n",
              "      display: none;\n",
              "      fill: #1967D2;\n",
              "      height: 32px;\n",
              "      padding: 0 0 0 0;\n",
              "      width: 32px;\n",
              "    }\n",
              "\n",
              "    .colab-df-convert:hover {\n",
              "      background-color: #E2EBFA;\n",
              "      box-shadow: 0px 1px 2px rgba(60, 64, 67, 0.3), 0px 1px 3px 1px rgba(60, 64, 67, 0.15);\n",
              "      fill: #174EA6;\n",
              "    }\n",
              "\n",
              "    [theme=dark] .colab-df-convert {\n",
              "      background-color: #3B4455;\n",
              "      fill: #D2E3FC;\n",
              "    }\n",
              "\n",
              "    [theme=dark] .colab-df-convert:hover {\n",
              "      background-color: #434B5C;\n",
              "      box-shadow: 0px 1px 3px 1px rgba(0, 0, 0, 0.15);\n",
              "      filter: drop-shadow(0px 1px 2px rgba(0, 0, 0, 0.3));\n",
              "      fill: #FFFFFF;\n",
              "    }\n",
              "  </style>\n",
              "\n",
              "      <script>\n",
              "        const buttonEl =\n",
              "          document.querySelector('#df-6490e2c7-3fd9-4abd-af36-da8a2fa200be button.colab-df-convert');\n",
              "        buttonEl.style.display =\n",
              "          google.colab.kernel.accessAllowed ? 'block' : 'none';\n",
              "\n",
              "        async function convertToInteractive(key) {\n",
              "          const element = document.querySelector('#df-6490e2c7-3fd9-4abd-af36-da8a2fa200be');\n",
              "          const dataTable =\n",
              "            await google.colab.kernel.invokeFunction('convertToInteractive',\n",
              "                                                     [key], {});\n",
              "          if (!dataTable) return;\n",
              "\n",
              "          const docLinkHtml = 'Like what you see? Visit the ' +\n",
              "            '<a target=\"_blank\" href=https://colab.research.google.com/notebooks/data_table.ipynb>data table notebook</a>'\n",
              "            + ' to learn more about interactive tables.';\n",
              "          element.innerHTML = '';\n",
              "          dataTable['output_type'] = 'display_data';\n",
              "          await google.colab.output.renderOutput(dataTable, element);\n",
              "          const docLink = document.createElement('div');\n",
              "          docLink.innerHTML = docLinkHtml;\n",
              "          element.appendChild(docLink);\n",
              "        }\n",
              "      </script>\n",
              "    </div>\n",
              "  </div>\n",
              "  "
            ]
          },
          "metadata": {},
          "execution_count": 4
        }
      ]
    },
    {
      "cell_type": "code",
      "source": [
        "msft_df.set_index(\"Date\", inplace=True)\n",
        "msft_df['Adj Close'].plot()\n",
        "plt.ylabel(\"Adjusted Close Prices\")\n",
        "plt.show()"
      ],
      "metadata": {
        "colab": {
          "base_uri": "https://localhost:8080/",
          "height": 279
        },
        "id": "Kbpx6jgBCCjY",
        "outputId": "ba6dff35-d115-45dd-a164-79c72ee70aff"
      },
      "execution_count": null,
      "outputs": [
        {
          "output_type": "display_data",
          "data": {
            "text/plain": [
              "<Figure size 432x288 with 1 Axes>"
            ],
            "image/png": "[encoded data removed]"
          },
          "metadata": {
            "needs_background": "light"
          }
        }
      ]
    },
    {
      "cell_type": "markdown",
      "source": [
        "## Step 1: Reading File"
      ],
      "metadata": {
        "id": "IYACCovgbVjn"
      }
    },
    {
      "cell_type": "code",
      "source": [
        "MSFT = pd.read_csv(\"/content/gdrive/MyDrive/DS 340W/Final Research Paper/Datasets/MSFT_5Y.csv\")\n",
        "MSFT.set_index(\"Date\", inplace=True)\n",
        "MSFT.dropna(inplace=True)"
      ],
      "metadata": {
        "id": "1pQbTOT6CCiF"
      },
      "execution_count": null,
      "outputs": []
    },
    {
      "cell_type": "markdown",
      "source": [
        "## Step 2: Feature Selection"
      ],
      "metadata": {
        "id": "9twwo1k8bZD8"
      }
    },
    {
      "cell_type": "markdown",
      "source": [
        "x is holding values for the 'Open', 'High', 'Low', 'Close', and 'Adj Close' columns.\n",
        "\n",
        "y is holding values for the 'Adj-close' column"
      ],
      "metadata": {
        "id": "rjhqRmVMPZjK"
      }
    },
    {
      "cell_type": "code",
      "source": [
        ""
      ],
      "metadata": {
        "id": "8014tjsgH7Sy"
      },
      "execution_count": null,
      "outputs": []
    },
    {
      "cell_type": "code",
      "source": [
        "x = MSFT.iloc[:, 0:5].values\n",
        "y = MSFT.iloc[:, 4].values"
      ],
      "metadata": {
        "id": "17tSXXkLCCeL"
      },
      "execution_count": null,
      "outputs": []
    },
    {
      "cell_type": "markdown",
      "source": [
        "## Step 3: Dividing Train and Test"
      ],
      "metadata": {
        "id": "K8viG1N8bRMK"
      }
    },
    {
      "cell_type": "code",
      "source": [
        "x_train, x_test, y_train, y_test = train_test_split(x, y, test_size=0.26,  random_state=0)"
      ],
      "metadata": {
        "id": "rS-FfH5TCCc4"
      },
      "execution_count": null,
      "outputs": []
    },
    {
      "cell_type": "markdown",
      "source": [
        "## Step 4: Feature Scaling"
      ],
      "metadata": {
        "id": "PcQLoyXAbOGD"
      }
    },
    {
      "cell_type": "code",
      "source": [
        "scale = StandardScaler()\n",
        "x_train = scale.fit_transform(x_train)\n",
        "x_test = scale.transform(x_test)"
      ],
      "metadata": {
        "id": "lMdgHqY2CCbL"
      },
      "execution_count": null,
      "outputs": []
    },
    {
      "cell_type": "markdown",
      "source": [
        "## Step 5: Hyperparameter Tuning"
      ],
      "metadata": {
        "id": "DOyUTmWnbKBa"
      }
    },
    {
      "cell_type": "markdown",
      "source": [
        "#### For a random forest regression model, the best parameters to consider are:\n",
        "\n",
        "**n_estimators** — number of trees in the forest\n",
        "\n",
        "**max_depth** — maximum depth in a tree\n",
        "\n",
        "**min_samples_split** — minimum number of data points before the sample is split\n",
        "\n",
        "**min_samples_leaf** — minimum number of leaf nodes that are required to be sampled\n",
        "\n",
        "**bootstrap** — sampling for data points, true or false\n",
        "\n",
        "**random_state** — generated random numbers for the random forest."
      ],
      "metadata": {
        "id": "Wlz-Oyy6Pzda"
      }
    },
    {
      "cell_type": "code",
      "source": [
        "grid_rf = {\n",
        "'n_estimators': [20, 50, 100, 500, 1000],  \n",
        "'max_depth': np.arange(1, 15, 1),  \n",
        "'min_samples_split': [2, 10, 9], \n",
        "'min_samples_leaf': np.arange(1, 15, 2, dtype=int),  \n",
        "'bootstrap': [True, False], \n",
        "'random_state': [1, 2, 30, 42]\n",
        "}\n",
        "model = RandomForestRegressor()\n",
        "rscv = RandomizedSearchCV(estimator = model, param_distributions=grid_rf, cv=3, n_jobs=-1, verbose=2, n_iter=200)\n",
        "rscv_fit = rscv.fit(x_train, y_train)\n",
        "best_parameters = rscv_fit.best_params_\n",
        "print(best_parameters)"
      ],
      "metadata": {
        "id": "k_EttoItCCYc",
        "colab": {
          "base_uri": "https://localhost:8080/"
        },
        "outputId": "0372a8be-a576-4e92-9a5e-f3fe8930d2bf"
      },
      "execution_count": null,
      "outputs": [
        {
          "output_type": "stream",
          "name": "stdout",
          "text": [
            "Fitting 3 folds for each of 200 candidates, totalling 600 fits\n",
            "{'random_state': 1, 'n_estimators': 1000, 'min_samples_split': 2, 'min_samples_leaf': 1, 'max_depth': 11, 'bootstrap': False}\n"
          ]
        }
      ]
    },
    {
      "cell_type": "markdown",
      "source": [
        "## Step 6: Applying Random Forest "
      ],
      "metadata": {
        "id": "caOsTHTvbFFP"
      }
    },
    {
      "cell_type": "markdown",
      "source": [
        "Now it's time to apply Random Forest since the dataset is ready. The first step is to pick a value for the random state and build a tree based on the number of random trees. Random Forest prevents overfitting by creating random subsets of the features and building smaller trees using these subsets. To build a forest, the data has to be trained, and this is where finding the best hyperparameters comes into action."
      ],
      "metadata": {
        "id": "GEW8Vt9XQHl_"
      }
    },
    {
      "cell_type": "code",
      "source": [
        "# 1: model = RandomForestRegressor(n_estimators=500, random_state=42, min_samples_split=2, min_samples_leaf=1, max_depth=10, bootstrap=True)\n",
        "# 2: model = RandomForestRegressor(n_estimators=50, random_state=42, min_samples_split=2, min_samples_leaf=1, max_depth=10, bootstrap=False)\n",
        "model = RandomForestRegressor(n_estimators=1000, random_state=1, min_samples_split=2, min_samples_leaf=1, max_depth=11, bootstrap=False)\n",
        "\n",
        "\n",
        "model.fit(x_train, y_train)\n",
        "predict = model.predict(x_test)\n",
        "print(predict)\n",
        "print(predict.shape)\n"
      ],
      "metadata": {
        "id": "VlaA43X0CCXI",
        "colab": {
          "base_uri": "https://localhost:8080/"
        },
        "outputId": "f91ab6aa-5e72-4945-9c2b-4653e966913b"
      },
      "execution_count": null,
      "outputs": [
        {
          "output_type": "stream",
          "name": "stdout",
          "text": [
            "[ 61.06072864 109.48047968  68.09333857 233.02807641  80.53929452\n",
            "  61.13542895  94.05931913 116.35227602 107.700227   130.35777506\n",
            " 134.58116269 154.322708   210.395859   102.00437925 167.51267826\n",
            " 217.0823297  208.97292347 323.85989578  69.10097221 288.09607853\n",
            " 211.71381633  71.30657959 160.04324469 106.9467015  322.82517563\n",
            "  87.06386896 210.4297683  249.72183032 100.774811   186.66541588\n",
            "  80.13478812 186.17613372 285.457825    65.211502   211.55724372\n",
            " 132.89965469 197.38747234 134.43674924 103.89759937  97.2276681\n",
            "  91.38180681 180.72827944 251.107834   334.11473957 205.72152439\n",
            "  60.64134664 180.54762462 191.26358     72.005341   144.46896238\n",
            " 209.44616768  89.13068402 292.56659764  66.05497807 134.81102367\n",
            " 100.84808889 179.822845   298.664917    63.54756223  74.39524529\n",
            "  97.276588   176.504044   278.36772766  90.70180512  98.55308303\n",
            " 211.99444123 223.3068661  134.1420803  245.84315539 279.403046\n",
            "  78.508392    81.08277275 208.3470188   61.06792484  72.52302329\n",
            " 163.22161392 133.36380924 102.71220233 103.48185    230.462784\n",
            "  89.43762231  94.00519866  94.57801747 242.6274459  153.15216666\n",
            " 103.48185    100.84253894 121.52735827 229.02043826 105.27310597\n",
            " 314.0516151  168.86475089 213.85375137 207.04498468 245.50841729\n",
            " 292.18680819  81.06482124 132.7284221  104.91343169  87.05557867\n",
            " 108.56205455 299.06972961 162.50733752  83.71089669 121.21202928\n",
            " 146.50320158 132.13930091 146.66288072  99.74937166  65.6950075\n",
            " 133.87375433 105.56716486 239.92162935 149.48749772 107.634148\n",
            "  68.62963837 294.391296   184.6643256   97.745605   200.64914595\n",
            "  67.72354882 125.878983   237.10735603  81.2279691  244.10828209\n",
            " 106.00289005 101.67342022 231.00151524  61.16523236 132.28677108\n",
            " 334.1576005  275.93310857  97.50217667 218.287628   252.50325\n",
            " 119.83735408 276.65122828 109.7667287  214.02970741 175.41308967\n",
            " 131.0493123  207.79872613  97.58065     81.75922461 103.38813\n",
            " 301.99510168  92.01771084 257.84789305 113.80468736 116.35227602\n",
            " 304.53147297 229.93909321 106.654076   139.19138409 299.969849\n",
            " 141.88970876 101.62495328 148.221878   101.67503578 324.87368434\n",
            " 199.73471582 162.21424326 135.29076204 249.338135   226.08308891\n",
            " 134.1420803  182.519669   291.07040853 215.02783496 204.80551838\n",
            " 110.660828   135.29076204 210.4294605  250.30803596 121.55465825\n",
            "  99.48540581  93.72418275  64.6517555  337.212738   209.63898161\n",
            " 241.10099577 133.205739   107.634148    89.77569317 106.654076\n",
            " 150.7572559   89.68267394 176.504044   215.60997471 179.822845\n",
            " 136.34361716 284.841431    97.2276681  332.00188108 132.89965469\n",
            "  65.6950075  158.55717915 329.30296105 264.58877277 288.05622052\n",
            " 135.91311734 101.36422779 103.38813    103.00085998  83.15930038\n",
            " 205.64137166 259.65955309  64.48217    213.94543228 255.97585547\n",
            " 301.444061   244.89398438  89.77569317 136.67408593 104.799911\n",
            "  83.28145552 295.96119244  66.0620759  301.444061   101.295891\n",
            "  65.02835448 179.243637   300.6862947  124.35143656 184.55585411\n",
            "  88.041229   202.31794995 241.47867819 132.86123675 180.06209804\n",
            " 105.28439594 200.775558   279.77140871 201.53555898 105.15516188\n",
            " 226.08308891 275.64547944 235.10584529  64.52800392  99.10599849\n",
            " 124.42455935  61.171253   162.148041    72.005341   103.18001212\n",
            " 314.0516151  177.52409433 293.21042075  64.3587675  101.7226215\n",
            "  66.00153915 150.79385496  80.15466005 105.23095432 122.298477\n",
            " 233.83105899 212.07216625 113.82047731 277.57867124  93.86044951\n",
            " 328.65712784  99.19430666 252.50325     96.2427024  342.14804624\n",
            " 135.754135   295.06274057 287.32766643  96.47587826  92.02638652\n",
            " 125.878983   221.01738913 292.93405993  61.01388193 263.20147012\n",
            " 310.08051136 233.69302355 244.05641908  82.18148867 231.03287973\n",
            "  68.29352434 202.8585479   65.6950075  169.197769    93.76062914\n",
            "  95.486702   300.6008457  179.822845   135.12676797 152.80838478\n",
            " 122.57614916  69.27726    102.71220233 230.12984797 153.10898633\n",
            " 103.48185    108.777565   200.49216529 140.44750856  70.561279\n",
            " 213.85934362  88.5034445  149.36527637  86.85919306 117.01941357\n",
            "  91.38523336 140.12804747 307.08540494  70.561279   230.84653776\n",
            " 245.50360942 235.02562    166.71871727 102.482834   230.83915788\n",
            " 171.69140807 130.41693731 132.48179532 295.79146161 163.08793369\n",
            " 103.38813     68.0817265   94.36426273 308.67181907 284.63082451\n",
            "  81.15266623 146.57670928  80.99019946]\n",
            "(328,)\n"
          ]
        }
      ]
    },
    {
      "cell_type": "markdown",
      "source": [
        "## Step 7: Getting Metrics"
      ],
      "metadata": {
        "id": "xdmlF8DzbkNx"
      }
    },
    {
      "cell_type": "markdown",
      "source": [
        "**RSME** - standard deviation of residuals (prediction errors), how far the data points are from the prediction line (regression line). RSME is best for accuracy when it is less than 0.5 and greater than 0.3\n",
        "\n",
        "**MEA** - average magnitude of errors in a set of predictions without considering their direction. the lower the error, the better\n",
        "\n",
        "**MSE** - sum of absolute value of error. the lower the MSE value, the higher the prediction accuracy\n",
        "\n",
        "**R^2** - shows how well a model fits a given dataset, and indicates the closeness of a regression line. the higher the r-squared, the better a model's fit is"
      ],
      "metadata": {
        "id": "zt93edyDQfWU"
      }
    },
    {
      "cell_type": "code",
      "source": [
        "print(\"Mean Absolute Error:\", round(metrics.mean_absolute_error(y_test, predict), 4))\n",
        "print(\"Mean Squared Error:\", round(metrics.mean_squared_error(y_test, predict), 4))\n",
        "print(\"Root Mean Squared Error:\", round(np.sqrt(metrics.mean_squared_error(y_test, predict)), 4))\n",
        "print(\"(R^2) Score:\", round(metrics.r2_score(y_test, predict), 4))\n",
        "print(f'Train Score : {model.score(x_train, y_train) * 100:.2f}% and Test Score : {model.score(x_test, y_test) * 100:.2f}% using Random Tree Regressor.')\n",
        "errors = abs(predict - y_test)\n",
        "mape = 100 * (errors / y_test)\n",
        "accuracy = 100 - np.mean(mape)\n",
        "print('Accuracy:', round(accuracy, 2), '%.') "
      ],
      "metadata": {
        "id": "kZ6uT_YjCCTD",
        "colab": {
          "base_uri": "https://localhost:8080/"
        },
        "outputId": "b8aedb65-9bae-447b-8f44-6b0d16ee6e86"
      },
      "execution_count": null,
      "outputs": [
        {
          "output_type": "stream",
          "name": "stdout",
          "text": [
            "Mean Absolute Error: 0.2475\n",
            "Mean Squared Error: 0.1932\n",
            "Root Mean Squared Error: 0.4395\n",
            "(R^2) Score: 1.0\n",
            "Train Score : 100.00% and Test Score : 100.00% using Random Tree Regressor.\n",
            "Accuracy: 99.84 %.\n"
          ]
        }
      ]
    },
    {
      "cell_type": "markdown",
      "source": [
        "## Step 8: Getting Future Days From Predicted Values and Plot"
      ],
      "metadata": {
        "id": "jt3OjuABboPT"
      }
    },
    {
      "cell_type": "code",
      "source": [
        "predictions = pd.DataFrame({\"Predictions\": predict}, index=pd.date_range(start=MSFT.index[-1], periods=len(predict), freq=\"D\"))\n",
        "predictions.to_csv(\"Predicted-price-data_msft.csv\")\n",
        "#colllects future days from predicted values\n",
        "oneyear_df = pd.DataFrame(predictions[:252])\n",
        "oneyear_df.to_csv(\"one-year-predictions_msft.csv\")\n",
        "onemonth_df = pd.DataFrame(predictions[:21])\n",
        "onemonth_df.to_csv(\"one-month-predictions_msft.csv\")\n",
        "fivedays_df = pd.DataFrame(predictions[:5])\n",
        "fivedays_df.to_csv(\"five-days-predictions_msft.csv\")"
      ],
      "metadata": {
        "id": "lsCKmdeyCCQN"
      },
      "execution_count": null,
      "outputs": []
    },
    {
      "cell_type": "code",
      "source": [
        "#oneyear_df.show(5)"
      ],
      "metadata": {
        "id": "vJhrlEWdHLKs"
      },
      "execution_count": null,
      "outputs": []
    },
    {
      "cell_type": "markdown",
      "source": [
        "## One Year Prediction\n"
      ],
      "metadata": {
        "id": "oNmFxERiCbDi"
      }
    },
    {
      "cell_type": "code",
      "source": [
        "oneyear_msft_pred = pd.read_csv(\"/content/one-year-predictions_msft.csv\")\n",
        "oneyear_msft_pred.set_index(list(oneyear_msft_pred.columns[[0]]), inplace=True)    # list(df.columns[[0,2]])\n",
        "buy_price = min(oneyear_msft_pred[\"Predictions\"])\n",
        "sell_price = max(oneyear_msft_pred[\"Predictions\"])\n",
        "oneyear_buy = oneyear_msft_pred.loc[oneyear_msft_pred[\"Predictions\"] == buy_price]\n",
        "oneyear_sell = oneyear_msft_pred.loc[oneyear_msft_pred[\"Predictions\"] == sell_price]\n",
        "print(\"Buy price and date\")\n",
        "print(oneyear_buy)\n",
        "print(\"Sell price and date\")\n",
        "print(oneyear_sell)\n",
        "oneyear_msft_pred[\"Predictions\"].plot(figsize=(10, 5), title=\"Forecast for the next 1 year\", color=\"blue\")\n",
        "plt.xlabel(\"Date\")\n",
        "plt.ylabel(\"Price\")\n",
        "plt.legend()\n",
        "plt.show()"
      ],
      "metadata": {
        "id": "BiLKB3VQCCMY",
        "colab": {
          "base_uri": "https://localhost:8080/",
          "height": 489
        },
        "outputId": "935600aa-f210-4258-c611-11871f2958f3"
      },
      "execution_count": null,
      "outputs": [
        {
          "output_type": "stream",
          "name": "stdout",
          "text": [
            "Buy price and date\n",
            "            Predictions\n",
            "Unnamed: 0             \n",
            "2022-05-05    60.641347\n",
            "Sell price and date\n",
            "            Predictions\n",
            "Unnamed: 0             \n",
            "2022-09-15   337.212738\n"
          ]
        },
        {
          "output_type": "display_data",
          "data": {
            "text/plain": [
              "<Figure size 720x360 with 1 Axes>"
            ],
            "image/png": "[encoded data removed]"
          },
          "metadata": {
            "needs_background": "light"
          }
        }
      ]
    },
    {
      "cell_type": "markdown",
      "source": [
        "## One Month Prediction"
      ],
      "metadata": {
        "id": "9XrYpHbQCnhQ"
      }
    },
    {
      "cell_type": "code",
      "source": [
        "onemonth_msft_pred = pd.read_csv(\"one-month-predictions_msft.csv\")\n",
        "onemonth_msft_pred.set_index(list(onemonth_msft_pred.columns[[0]]), inplace=True)\n",
        "buy_price = min(onemonth_msft_pred[\"Predictions\"])\n",
        "sell_price = max(onemonth_msft_pred[\"Predictions\"])\n",
        "onemonth_buy = onemonth_msft_pred.loc[onemonth_msft_pred[\"Predictions\"] == buy_price]\n",
        "onemonth_sell = onemonth_msft_pred.loc[onemonth_msft_pred[\"Predictions\"] == sell_price]\n",
        "print(\"Buy price and date\")\n",
        "print(onemonth_buy)\n",
        "print(\"Sell price and date\")\n",
        "print(onemonth_sell)\n",
        "onemonth_msft_pred[\"Predictions\"].plot(figsize=(10, 5), title=\"Forecast for the next 1 month\", color=\"blue\")\n",
        "plt.xlabel(\"Date\")\n",
        "plt.ylabel(\"Price\")\n",
        "plt.legend()\n",
        "plt.show()"
      ],
      "metadata": {
        "id": "4tzLBCn-CnS8",
        "colab": {
          "base_uri": "https://localhost:8080/",
          "height": 489
        },
        "outputId": "236e5178-a2ed-407c-b398-6c33954eb728"
      },
      "execution_count": null,
      "outputs": [
        {
          "output_type": "stream",
          "name": "stdout",
          "text": [
            "Buy price and date\n",
            "            Predictions\n",
            "Unnamed: 0             \n",
            "2022-03-21    61.060729\n",
            "Sell price and date\n",
            "            Predictions\n",
            "Unnamed: 0             \n",
            "2022-04-07   323.859896\n"
          ]
        },
        {
          "output_type": "display_data",
          "data": {
            "text/plain": [
              "<Figure size 720x360 with 1 Axes>"
            ],
            "image/png": "[encoded data removed]"
          },
          "metadata": {
            "needs_background": "light"
          }
        }
      ]
    },
    {
      "cell_type": "markdown",
      "source": [
        "## Five Days Prediction"
      ],
      "metadata": {
        "id": "z-mqEggBCn0y"
      }
    },
    {
      "cell_type": "code",
      "source": [
        "fivedays_msft_pred = pd.read_csv(\"five-days-predictions_msft.csv\")\n",
        "fivedays_msft_pred.set_index(list(fivedays_msft_pred.columns[[0]]), inplace=True)\n",
        "buy_price = min(fivedays_msft_pred[\"Predictions\"])\n",
        "sell_price = max(fivedays_msft_pred[\"Predictions\"])\n",
        "fivedays_buy = fivedays_msft_pred.loc[fivedays_msft_pred[\"Predictions\"] == buy_price]\n",
        "fivedays_sell = fivedays_msft_pred.loc[fivedays_msft_pred[\"Predictions\"] == sell_price]\n",
        "print(\"Buy price and date\")\n",
        "print(fivedays_buy)\n",
        "print(\"Sell price and date\")\n",
        "print(fivedays_sell)\n",
        "fivedays_msft_pred[\"Predictions\"].plot(figsize=(10, 5), title=\"Forecast for the next 5 days\", color=\"blue\")\n",
        "plt.xlabel(\"Date\")\n",
        "plt.ylabel(\"Price\")\n",
        "plt.legend()\n",
        "plt.show()"
      ],
      "metadata": {
        "id": "JqEhQzxpCCJ8",
        "colab": {
          "base_uri": "https://localhost:8080/",
          "height": 489
        },
        "outputId": "67992b53-5364-4709-97a5-c1ba990ca89d"
      },
      "execution_count": null,
      "outputs": [
        {
          "output_type": "stream",
          "name": "stdout",
          "text": [
            "Buy price and date\n",
            "            Predictions\n",
            "Unnamed: 0             \n",
            "2022-03-21    61.060729\n",
            "Sell price and date\n",
            "            Predictions\n",
            "Unnamed: 0             \n",
            "2022-03-24   233.028076\n"
          ]
        },
        {
          "output_type": "display_data",
          "data": {
            "text/plain": [
              "<Figure size 720x360 with 1 Axes>"
            ],
            "image/png": "[encoded data removed]"
          },
          "metadata": {
            "needs_background": "light"
          }
        }
      ]
    },
    {
      "cell_type": "markdown",
      "source": [
        "## POSSIBLE DATA LEAK AND SOLUTION:\n",
        "\n",
        "As adj close is the values we are going to predict, adj close is y. Then, x should be the other parameters that we would like to use in order to predict y (adj close). In this case, I think X should hold all columns, except adj close.\n",
        "\n",
        "What is actually being predicted is the adj-close with all of the information at that same time step. Like waiting until the end of the day and then predicting what the close will be that day. Might as well just read it from the data. Need to shift(-1) your y/labels."
      ],
      "metadata": {
        "id": "JT9NN2Mpw-iq"
      }
    },
    {
      "cell_type": "code",
      "source": [
        ""
      ],
      "metadata": {
        "id": "71oNgqWFz1wp"
      },
      "execution_count": null,
      "outputs": []
    }
  ]
}