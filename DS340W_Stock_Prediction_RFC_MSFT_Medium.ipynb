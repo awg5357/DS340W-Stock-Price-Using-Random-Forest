{
  "nbformat": 4,
  "nbformat_minor": 0,
  "metadata": {
    "colab": {
      "name": "DS340W_Stock_Prediction_RFC_MSFT_Medium",
      "provenance": []
    },
    "kernelspec": {
      "name": "python3",
      "display_name": "Python 3"
    },
    "language_info": {
      "name": "python"
    }
  },
  "cells": [
    {
      "cell_type": "markdown",
      "source": [
        "## Import Libraries"
      ],
      "metadata": {
        "id": "UZVQGtz3CEmN"
      }
    },
    {
      "cell_type": "code",
      "source": [
        "pip install yfinance"
      ],
      "metadata": {
        "colab": {
          "base_uri": "https://localhost:8080/"
        },
        "id": "-SV-D_paChTm",
        "outputId": "a37f6abe-4a01-480f-c5ac-54c494caeed4"
      },
      "execution_count": null,
      "outputs": [
        {
          "output_type": "stream",
          "name": "stdout",
          "text": [
            "Collecting yfinance\n",
            "  Downloading yfinance-0.1.70-py2.py3-none-any.whl (26 kB)\n",
            "Requirement already satisfied: pandas>=0.24.0 in /usr/local/lib/python3.7/dist-packages (from yfinance) (1.3.5)\n",
            "Collecting requests>=2.26\n",
            "  Downloading requests-2.27.1-py2.py3-none-any.whl (63 kB)\n",
            "\u001b[K     |████████████████████████████████| 63 kB 1.4 MB/s \n",
            "\u001b[?25hRequirement already satisfied: multitasking>=0.0.7 in /usr/local/lib/python3.7/dist-packages (from yfinance) (0.0.10)\n",
            "Requirement already satisfied: numpy>=1.15 in /usr/local/lib/python3.7/dist-packages (from yfinance) (1.21.5)\n",
            "Collecting lxml>=4.5.1\n",
            "  Downloading lxml-4.8.0-cp37-cp37m-manylinux_2_17_x86_64.manylinux2014_x86_64.manylinux_2_24_x86_64.whl (6.4 MB)\n",
            "\u001b[K     |████████████████████████████████| 6.4 MB 22.9 MB/s \n",
            "\u001b[?25hRequirement already satisfied: pytz>=2017.3 in /usr/local/lib/python3.7/dist-packages (from pandas>=0.24.0->yfinance) (2018.9)\n",
            "Requirement already satisfied: python-dateutil>=2.7.3 in /usr/local/lib/python3.7/dist-packages (from pandas>=0.24.0->yfinance) (2.8.2)\n",
            "Requirement already satisfied: six>=1.5 in /usr/local/lib/python3.7/dist-packages (from python-dateutil>=2.7.3->pandas>=0.24.0->yfinance) (1.15.0)\n",
            "Requirement already satisfied: idna<4,>=2.5 in /usr/local/lib/python3.7/dist-packages (from requests>=2.26->yfinance) (2.10)\n",
            "Requirement already satisfied: charset-normalizer~=2.0.0 in /usr/local/lib/python3.7/dist-packages (from requests>=2.26->yfinance) (2.0.12)\n",
            "Requirement already satisfied: certifi>=2017.4.17 in /usr/local/lib/python3.7/dist-packages (from requests>=2.26->yfinance) (2021.10.8)\n",
            "Requirement already satisfied: urllib3<1.27,>=1.21.1 in /usr/local/lib/python3.7/dist-packages (from requests>=2.26->yfinance) (1.24.3)\n",
            "Installing collected packages: requests, lxml, yfinance\n",
            "  Attempting uninstall: requests\n",
            "    Found existing installation: requests 2.23.0\n",
            "    Uninstalling requests-2.23.0:\n",
            "      Successfully uninstalled requests-2.23.0\n",
            "  Attempting uninstall: lxml\n",
            "    Found existing installation: lxml 4.2.6\n",
            "    Uninstalling lxml-4.2.6:\n",
            "      Successfully uninstalled lxml-4.2.6\n",
            "\u001b[31mERROR: pip's dependency resolver does not currently take into account all the packages that are installed. This behaviour is the source of the following dependency conflicts.\n",
            "google-colab 1.0.0 requires requests~=2.23.0, but you have requests 2.27.1 which is incompatible.\n",
            "datascience 0.10.6 requires folium==0.2.1, but you have folium 0.8.3 which is incompatible.\u001b[0m\n",
            "Successfully installed lxml-4.8.0 requests-2.27.1 yfinance-0.1.70\n"
          ]
        }
      ]
    },
    {
      "cell_type": "code",
      "execution_count": null,
      "metadata": {
        "id": "brJrC1Th4424"
      },
      "outputs": [],
      "source": [
        "import yfinance as yf\n",
        "import datetime as dt\n",
        "import pandas as pd\n",
        "import numpy as np\n",
        "from numpy import arange\n",
        "import matplotlib.pyplot as plt\n",
        "from pandas import read_csv\n",
        "from sklearn import metrics\n",
        "from sklearn.model_selection import train_test_split\n",
        "from sklearn.ensemble import RandomForestRegressor\n",
        "from sklearn.preprocessing import StandardScaler\n",
        "from sklearn.model_selection import RandomizedSearchCV"
      ]
    },
    {
      "cell_type": "markdown",
      "source": [
        "## Import Dataset"
      ],
      "metadata": {
        "id": "BQoeEyyXCIBI"
      }
    },
    {
      "cell_type": "code",
      "source": [
        "from google.colab import drive\n",
        "\n",
        "drive.mount(\"/content/gdrive\")"
      ],
      "metadata": {
        "colab": {
          "base_uri": "https://localhost:8080/"
        },
        "id": "8xUKjW5FCCmO",
        "outputId": "746b3403-2358-477c-c2e7-f99f69693b8b"
      },
      "execution_count": null,
      "outputs": [
        {
          "output_type": "stream",
          "name": "stdout",
          "text": [
            "Mounted at /content/gdrive\n"
          ]
        }
      ]
    },
    {
      "cell_type": "code",
      "source": [
        "msft_df = pd.read_csv(\"/content/gdrive/MyDrive/DS 340W/Final Research Paper/Datasets/MSFT_5Y.csv\")\n",
        "msft_df = msft_df.dropna()\n",
        "msft_df = msft_df[['Date','Open', 'High', 'Low','Close','Adj Close','Volume']]\n",
        "msft_df.head()"
      ],
      "metadata": {
        "colab": {
          "base_uri": "https://localhost:8080/",
          "height": 206
        },
        "id": "WEEmNunBCCkx",
        "outputId": "6974b14d-3d4d-46c7-d141-3feb3efb1313"
      },
      "execution_count": null,
      "outputs": [
        {
          "output_type": "execute_result",
          "data": {
            "text/plain": [
              "         Date       Open       High        Low      Close  Adj Close    Volume\n",
              "0  2017-03-22  64.120003  65.139999  64.120003  65.029999  60.704510  20680000\n",
              "1  2017-03-23  64.940002  65.239998  64.769997  64.870003  60.555168  19269200\n",
              "2  2017-03-24  65.360001  65.449997  64.760002  64.980003  60.657841  22617100\n",
              "3  2017-03-27  64.629997  65.220001  64.349998  65.099998  60.769852  18614700\n",
              "4  2017-03-28  64.959999  65.470001  64.650002  65.290001  60.947208  20080400"
            ],
            "text/html": [
              "\n",
              "  <div id=\"df-d7ab8b85-71a4-4340-b5d2-f06b3570d606\">\n",
              "    <div class=\"colab-df-container\">\n",
              "      <div>\n",
              "<style scoped>\n",
              "    .dataframe tbody tr th:only-of-type {\n",
              "        vertical-align: middle;\n",
              "    }\n",
              "\n",
              "    .dataframe tbody tr th {\n",
              "        vertical-align: top;\n",
              "    }\n",
              "\n",
              "    .dataframe thead th {\n",
              "        text-align: right;\n",
              "    }\n",
              "</style>\n",
              "<table border=\"1\" class=\"dataframe\">\n",
              "  <thead>\n",
              "    <tr style=\"text-align: right;\">\n",
              "      <th></th>\n",
              "      <th>Date</th>\n",
              "      <th>Open</th>\n",
              "      <th>High</th>\n",
              "      <th>Low</th>\n",
              "      <th>Close</th>\n",
              "      <th>Adj Close</th>\n",
              "      <th>Volume</th>\n",
              "    </tr>\n",
              "  </thead>\n",
              "  <tbody>\n",
              "    <tr>\n",
              "      <th>0</th>\n",
              "      <td>2017-03-22</td>\n",
              "      <td>64.120003</td>\n",
              "      <td>65.139999</td>\n",
              "      <td>64.120003</td>\n",
              "      <td>65.029999</td>\n",
              "      <td>60.704510</td>\n",
              "      <td>20680000</td>\n",
              "    </tr>\n",
              "    <tr>\n",
              "      <th>1</th>\n",
              "      <td>2017-03-23</td>\n",
              "      <td>64.940002</td>\n",
              "      <td>65.239998</td>\n",
              "      <td>64.769997</td>\n",
              "      <td>64.870003</td>\n",
              "      <td>60.555168</td>\n",
              "      <td>19269200</td>\n",
              "    </tr>\n",
              "    <tr>\n",
              "      <th>2</th>\n",
              "      <td>2017-03-24</td>\n",
              "      <td>65.360001</td>\n",
              "      <td>65.449997</td>\n",
              "      <td>64.760002</td>\n",
              "      <td>64.980003</td>\n",
              "      <td>60.657841</td>\n",
              "      <td>22617100</td>\n",
              "    </tr>\n",
              "    <tr>\n",
              "      <th>3</th>\n",
              "      <td>2017-03-27</td>\n",
              "      <td>64.629997</td>\n",
              "      <td>65.220001</td>\n",
              "      <td>64.349998</td>\n",
              "      <td>65.099998</td>\n",
              "      <td>60.769852</td>\n",
              "      <td>18614700</td>\n",
              "    </tr>\n",
              "    <tr>\n",
              "      <th>4</th>\n",
              "      <td>2017-03-28</td>\n",
              "      <td>64.959999</td>\n",
              "      <td>65.470001</td>\n",
              "      <td>64.650002</td>\n",
              "      <td>65.290001</td>\n",
              "      <td>60.947208</td>\n",
              "      <td>20080400</td>\n",
              "    </tr>\n",
              "  </tbody>\n",
              "</table>\n",
              "</div>\n",
              "      <button class=\"colab-df-convert\" onclick=\"convertToInteractive('df-d7ab8b85-71a4-4340-b5d2-f06b3570d606')\"\n",
              "              title=\"Convert this dataframe to an interactive table.\"\n",
              "              style=\"display:none;\">\n",
              "        \n",
              "  <svg xmlns=\"http://www.w3.org/2000/svg\" height=\"24px\"viewBox=\"0 0 24 24\"\n",
              "       width=\"24px\">\n",
              "    <path d=\"M0 0h24v24H0V0z\" fill=\"none\"/>\n",
              "    <path d=\"M18.56 5.44l.94 2.06.94-2.06 2.06-.94-2.06-.94-.94-2.06-.94 2.06-2.06.94zm-11 1L8.5 8.5l.94-2.06 2.06-.94-2.06-.94L8.5 2.5l-.94 2.06-2.06.94zm10 10l.94 2.06.94-2.06 2.06-.94-2.06-.94-.94-2.06-.94 2.06-2.06.94z\"/><path d=\"M17.41 7.96l-1.37-1.37c-.4-.4-.92-.59-1.43-.59-.52 0-1.04.2-1.43.59L10.3 9.45l-7.72 7.72c-.78.78-.78 2.05 0 2.83L4 21.41c.39.39.9.59 1.41.59.51 0 1.02-.2 1.41-.59l7.78-7.78 2.81-2.81c.8-.78.8-2.07 0-2.86zM5.41 20L4 18.59l7.72-7.72 1.47 1.35L5.41 20z\"/>\n",
              "  </svg>\n",
              "      </button>\n",
              "      \n",
              "  <style>\n",
              "    .colab-df-container {\n",
              "      display:flex;\n",
              "      flex-wrap:wrap;\n",
              "      gap: 12px;\n",
              "    }\n",
              "\n",
              "    .colab-df-convert {\n",
              "      background-color: #E8F0FE;\n",
              "      border: none;\n",
              "      border-radius: 50%;\n",
              "      cursor: pointer;\n",
              "      display: none;\n",
              "      fill: #1967D2;\n",
              "      height: 32px;\n",
              "      padding: 0 0 0 0;\n",
              "      width: 32px;\n",
              "    }\n",
              "\n",
              "    .colab-df-convert:hover {\n",
              "      background-color: #E2EBFA;\n",
              "      box-shadow: 0px 1px 2px rgba(60, 64, 67, 0.3), 0px 1px 3px 1px rgba(60, 64, 67, 0.15);\n",
              "      fill: #174EA6;\n",
              "    }\n",
              "\n",
              "    [theme=dark] .colab-df-convert {\n",
              "      background-color: #3B4455;\n",
              "      fill: #D2E3FC;\n",
              "    }\n",
              "\n",
              "    [theme=dark] .colab-df-convert:hover {\n",
              "      background-color: #434B5C;\n",
              "      box-shadow: 0px 1px 3px 1px rgba(0, 0, 0, 0.15);\n",
              "      filter: drop-shadow(0px 1px 2px rgba(0, 0, 0, 0.3));\n",
              "      fill: #FFFFFF;\n",
              "    }\n",
              "  </style>\n",
              "\n",
              "      <script>\n",
              "        const buttonEl =\n",
              "          document.querySelector('#df-d7ab8b85-71a4-4340-b5d2-f06b3570d606 button.colab-df-convert');\n",
              "        buttonEl.style.display =\n",
              "          google.colab.kernel.accessAllowed ? 'block' : 'none';\n",
              "\n",
              "        async function convertToInteractive(key) {\n",
              "          const element = document.querySelector('#df-d7ab8b85-71a4-4340-b5d2-f06b3570d606');\n",
              "          const dataTable =\n",
              "            await google.colab.kernel.invokeFunction('convertToInteractive',\n",
              "                                                     [key], {});\n",
              "          if (!dataTable) return;\n",
              "\n",
              "          const docLinkHtml = 'Like what you see? Visit the ' +\n",
              "            '<a target=\"_blank\" href=https://colab.research.google.com/notebooks/data_table.ipynb>data table notebook</a>'\n",
              "            + ' to learn more about interactive tables.';\n",
              "          element.innerHTML = '';\n",
              "          dataTable['output_type'] = 'display_data';\n",
              "          await google.colab.output.renderOutput(dataTable, element);\n",
              "          const docLink = document.createElement('div');\n",
              "          docLink.innerHTML = docLinkHtml;\n",
              "          element.appendChild(docLink);\n",
              "        }\n",
              "      </script>\n",
              "    </div>\n",
              "  </div>\n",
              "  "
            ]
          },
          "metadata": {},
          "execution_count": 4
        }
      ]
    },
    {
      "cell_type": "code",
      "source": [
        "msft_df.set_index(\"Date\", inplace=True)\n",
        "msft_df['Adj Close'].plot()\n",
        "plt.ylabel(\"Adjusted Close Prices\")\n",
        "plt.show()"
      ],
      "metadata": {
        "colab": {
          "base_uri": "https://localhost:8080/",
          "height": 279
        },
        "id": "Kbpx6jgBCCjY",
        "outputId": "cebc9eda-43d9-48cd-e39d-4336e2ce666f"
      },
      "execution_count": null,
      "outputs": [
        {
          "output_type": "display_data",
          "data": {
            "text/plain": [
              "<Figure size 432x288 with 1 Axes>"
            ],
            "image/png": "[encoded data removed]"
          },
          "metadata": {
            "needs_background": "light"
          }
        }
      ]
    },
    {
      "cell_type": "markdown",
      "source": [
        "## Step 1: Reading File"
      ],
      "metadata": {
        "id": "IYACCovgbVjn"
      }
    },
    {
      "cell_type": "code",
      "source": [
        "MSFT = pd.read_csv(\"/content/gdrive/MyDrive/DS 340W/Final Research Paper/Datasets/MSFT_5Y.csv\")\n",
        "MSFT.set_index(\"Date\", inplace=True)\n",
        "MSFT.dropna(inplace=True)"
      ],
      "metadata": {
        "id": "1pQbTOT6CCiF"
      },
      "execution_count": null,
      "outputs": []
    },
    {
      "cell_type": "markdown",
      "source": [
        "## Step 2: Feature Selection"
      ],
      "metadata": {
        "id": "9twwo1k8bZD8"
      }
    },
    {
      "cell_type": "code",
      "source": [
        "x = MSFT.iloc[:, 0:5].values\n",
        "y = MSFT.iloc[:, 4].values"
      ],
      "metadata": {
        "id": "17tSXXkLCCeL"
      },
      "execution_count": null,
      "outputs": []
    },
    {
      "cell_type": "markdown",
      "source": [
        "## Step 3: Dividing Train and Test"
      ],
      "metadata": {
        "id": "K8viG1N8bRMK"
      }
    },
    {
      "cell_type": "code",
      "source": [
        "x_train, x_test, y_train, y_test = train_test_split(x, y, test_size=0.26,  random_state=0)"
      ],
      "metadata": {
        "id": "rS-FfH5TCCc4"
      },
      "execution_count": null,
      "outputs": []
    },
    {
      "cell_type": "markdown",
      "source": [
        "## Step 4: Feature Scaling"
      ],
      "metadata": {
        "id": "PcQLoyXAbOGD"
      }
    },
    {
      "cell_type": "code",
      "source": [
        "scale = StandardScaler()\n",
        "x_train = scale.fit_transform(x_train)\n",
        "x_test = scale.transform(x_test)"
      ],
      "metadata": {
        "id": "lMdgHqY2CCbL"
      },
      "execution_count": null,
      "outputs": []
    },
    {
      "cell_type": "markdown",
      "source": [
        "## Step 5: Hyperparameter Tuning"
      ],
      "metadata": {
        "id": "DOyUTmWnbKBa"
      }
    },
    {
      "cell_type": "code",
      "source": [
        "grid_rf = {\n",
        "'n_estimators': [20, 50, 100, 500, 1000],  \n",
        "'max_depth': np.arange(1, 15, 1),  \n",
        "'min_samples_split': [2, 10, 9], \n",
        "'min_samples_leaf': np.arange(1, 15, 2, dtype=int),  \n",
        "'bootstrap': [True, False], \n",
        "'random_state': [1, 2, 30, 42]\n",
        "}\n",
        "model = RandomForestRegressor()\n",
        "rscv = RandomizedSearchCV(estimator = model, param_distributions=grid_rf, cv=3, n_jobs=-1, verbose=2, n_iter=200)\n",
        "rscv_fit = rscv.fit(x_train, y_train)\n",
        "best_parameters = rscv_fit.best_params_\n",
        "print(best_parameters)"
      ],
      "metadata": {
        "id": "k_EttoItCCYc",
        "colab": {
          "base_uri": "https://localhost:8080/"
        },
        "outputId": "5a2236c2-29ad-403e-bec7-14b081d37f15"
      },
      "execution_count": null,
      "outputs": [
        {
          "output_type": "stream",
          "name": "stdout",
          "text": [
            "Fitting 3 folds for each of 200 candidates, totalling 600 fits\n",
            "{'random_state': 1, 'n_estimators': 50, 'min_samples_split': 2, 'min_samples_leaf': 1, 'max_depth': 8, 'bootstrap': False}\n"
          ]
        }
      ]
    },
    {
      "cell_type": "markdown",
      "source": [
        "## Step 6: Applying Random Forest "
      ],
      "metadata": {
        "id": "caOsTHTvbFFP"
      }
    },
    {
      "cell_type": "code",
      "source": [
        "model = RandomForestRegressor(n_estimators=500, random_state=42, min_samples_split=2, min_samples_leaf=1, max_depth=10, bootstrap=True)\n",
        "model.fit(x_train, y_train)\n",
        "predict = model.predict(x_test)\n",
        "print(predict)\n",
        "print(predict.shape)\n"
      ],
      "metadata": {
        "id": "VlaA43X0CCXI",
        "colab": {
          "base_uri": "https://localhost:8080/"
        },
        "outputId": "fb7fd222-7daf-4fc0-e484-585daf1f5cf6"
      },
      "execution_count": null,
      "outputs": [
        {
          "output_type": "stream",
          "name": "stdout",
          "text": [
            "[ 61.04089305 109.03821778  68.08261418 233.31385546  80.64386185\n",
            "  61.10679347  94.15896099 116.36961902 107.7445796  130.41310642\n",
            " 134.45024577 154.5036052  210.08824532 101.98370572 166.67509006\n",
            " 216.9828099  208.82755355 323.78628968  69.19364581 287.73763499\n",
            " 211.62792062  71.30083662 159.89363612 106.87642745 320.46918045\n",
            "  87.1559617  210.44012207 249.74309476 100.52671465 186.36370671\n",
            "  79.91851439 185.34603798 285.50133589  65.32407144 211.90280031\n",
            " 132.97331316 197.28297791 134.2703595  103.8655129   96.96489369\n",
            "  91.62304646 181.06753096 250.94986379 333.68297507 205.61520645\n",
            "  60.689999   180.51096446 191.90756006  71.90341694 145.15243606\n",
            " 209.80195642  89.03964467 292.16641054  66.22345612 134.79214734\n",
            " 100.82330814 180.15431889 298.63889893  63.59750386  74.37468525\n",
            "  97.37003543 176.1736893  278.03286353  90.65657994  98.61714492\n",
            " 211.88508427 223.87857531 134.19804197 245.85543222 278.79319931\n",
            "  78.64393019  81.08086688 208.35145175  61.05588468  72.77305248\n",
            " 163.18476386 133.10906404 102.72512031 103.42947889 230.97831997\n",
            "  89.35053865  94.00496313  94.47442711 242.30333273 152.0417984\n",
            " 103.39750698 100.78602292 121.17385054 229.06753464 105.31572585\n",
            " 313.59520922 168.63977068 213.89209341 207.086621   245.7718874\n",
            " 291.86503755  81.05503383 132.73973714 105.01296416  87.06575638\n",
            " 108.46578227 299.32073478 162.25218944  83.71809333 121.6122847\n",
            " 146.52812806 132.08787294 147.36249473  99.6952023   65.65225142\n",
            " 133.91672282 105.568704   240.04928555 149.70917368 107.35134432\n",
            "  68.53756702 293.77988018 184.34759176  97.88217125 200.58200325\n",
            "  67.81151102 125.79456275 236.81546138  81.27974709 243.62616054\n",
            " 106.09742542 101.65428822 230.50169894  61.21488832 132.46036179\n",
            " 334.28285604 275.92924417  97.55743142 218.65015273 252.00598796\n",
            " 119.7776186  276.89842136 110.00867493 213.93092429 175.53628701\n",
            " 131.01723927 207.68966892  97.25237556  81.70033225 103.38698549\n",
            " 301.99609232  91.99066848 258.25242462 114.12404959 116.30077333\n",
            " 303.6702002  229.84912374 106.68829739 138.70481656 300.1212922\n",
            " 141.12393535 101.65439544 148.45291449 101.71386587 325.64790912\n",
            " 199.92668376 162.16309822 135.35240997 248.8448045  226.10374771\n",
            " 134.09269651 182.46034015 290.54247555 215.12144528 204.7282333\n",
            " 110.87952838 135.26830314 210.46897985 249.84139421 121.4152871\n",
            "  99.46494757  93.7030712   64.75943666 336.77468231 209.88926588\n",
            " 241.72992136 133.23800581 107.62848244  89.78211994 106.52179382\n",
            " 151.14223813  89.63423997 176.01610054 215.54023168 180.43651253\n",
            " 136.34553366 284.86224386  97.13975734 332.40427062 132.68369998\n",
            "  65.68739798 158.49645754 329.62124712 264.66385042 287.84011615\n",
            " 135.80317167 101.37319542 103.37748168 102.92575834  82.31749658\n",
            " 205.55407645 259.50352053  64.43660591 213.75092086 256.28412105\n",
            " 301.38903845 245.06852518  89.78773549 136.5389848  104.71872854\n",
            "  83.43254646 295.89567624  66.05732619 301.41954373 101.21811081\n",
            "  64.89393143 179.51396794 300.73554908 124.23316857 184.37373228\n",
            "  88.0385407  202.45517889 240.85652988 132.82246042 179.66764564\n",
            " 105.26280553 200.75304648 279.76335602 201.25303753 105.163312\n",
            " 226.07561778 275.55206329 235.0492301   64.60902135  99.2156045\n",
            " 124.67727253  61.26997621 162.13353717  71.94021386 103.08319496\n",
            " 313.70637426 177.89275715 293.30145052  64.40450557 101.75055616\n",
            "  65.97064483 151.56250033  79.95535661 105.13730542 122.254706\n",
            " 234.01880532 212.03324722 114.13133019 277.28400661  93.77312397\n",
            " 328.82479259  99.33643186 251.23515789  96.20983928 341.58455802\n",
            " 135.77453834 295.35774354 287.66125656  96.67796694  92.0997586\n",
            " 126.16724262 220.75676876 293.10837336  60.96306859 262.8178\n",
            " 310.04334457 233.58471505 244.14818444  81.95541396 231.81111215\n",
            "  68.32098262 202.89725059  65.62865793 168.92238998  93.82410698\n",
            "  95.19923183 300.51262184 180.13153658 135.82763129 151.94462941\n",
            " 122.89590321  69.34669167 102.63623276 230.59916817 152.6330499\n",
            " 103.53302544 108.73412335 200.1164545  141.08045077  70.46948521\n",
            " 213.78793914  88.51717087 149.66087636  86.78441889 117.29628936\n",
            "  91.78197507 140.18977601 306.90299672  70.64091397 232.41438699\n",
            " 245.6332742  234.38529045 166.57135783 102.40247022 231.55804278\n",
            " 172.01848505 130.55214888 132.21474253 295.60689734 163.12798924\n",
            " 103.41118909  68.05583348  94.90274354 308.32566567 284.8768481\n",
            "  81.14921704 146.55028198  80.68375044]\n",
            "(328,)\n"
          ]
        }
      ]
    },
    {
      "cell_type": "markdown",
      "source": [
        "## Step 7: Getting Metrics"
      ],
      "metadata": {
        "id": "xdmlF8DzbkNx"
      }
    },
    {
      "cell_type": "code",
      "source": [
        "print(\"Mean Absolute Error:\", round(metrics.mean_absolute_error(y_test, predict), 4))\n",
        "print(\"Mean Squared Error:\", round(metrics.mean_squared_error(y_test, predict), 4))\n",
        "print(\"Root Mean Squared Error:\", round(np.sqrt(metrics.mean_squared_error(y_test, predict)), 4))\n",
        "print(\"(R^2) Score:\", round(metrics.r2_score(y_test, predict), 4))\n",
        "print(f'Train Score : {model.score(x_train, y_train) * 100:.2f}% and Test Score : {model.score(x_test, y_test) * 100:.2f}% using Random Tree Regressor.')\n",
        "errors = abs(predict - y_test)\n",
        "mape = 100 * (errors / y_test)\n",
        "accuracy = 100 - np.mean(mape)\n",
        "print('Accuracy:', round(accuracy, 2), '%.') "
      ],
      "metadata": {
        "id": "kZ6uT_YjCCTD",
        "colab": {
          "base_uri": "https://localhost:8080/"
        },
        "outputId": "aa5ef793-23db-4794-8775-146ad68d0731"
      },
      "execution_count": null,
      "outputs": [
        {
          "output_type": "stream",
          "name": "stdout",
          "text": [
            "Mean Absolute Error: 0.2711\n",
            "Mean Squared Error: 0.2037\n",
            "Root Mean Squared Error: 0.4513\n",
            "(R^2) Score: 1.0\n",
            "Train Score : 100.00% and Test Score : 100.00% using Random Tree Regressor.\n",
            "Accuracy: 99.83 %.\n"
          ]
        }
      ]
    },
    {
      "cell_type": "markdown",
      "source": [
        "## Step 8: Getting Future Days From Predicted Values and Plot"
      ],
      "metadata": {
        "id": "jt3OjuABboPT"
      }
    },
    {
      "cell_type": "code",
      "source": [
        "predictions = MSFT.DataFrame({\"Predictions\": predict}, index=pd.date_range(start=df.index[-1], periods=len(predict), freq=\"D\"))\n",
        "predictions.to_csv(\"Predicted-price-data_msft.csv\")\n",
        "#colllects future days from predicted values\n",
        "oneyear_df = MSFT.DataFrame(predictions[:252])\n",
        "oneyear_df.to_csv(\"one-year-predictions_msft.csv\")\n",
        "onemonth_df = MSFT.DataFrame(predictions[:21])\n",
        "onemonth_df.to_csv(\"one-month-predictions_msft.csv\")\n",
        "fivedays_df = MSFT.DataFrame(predictions[:5])\n",
        "fivedays_df.to_csv(\"five-days-predictions_msft.csv\")"
      ],
      "metadata": {
        "id": "lsCKmdeyCCQN",
        "colab": {
          "base_uri": "https://localhost:8080/",
          "height": 383
        },
        "outputId": "f610288a-1dc6-446e-f0fe-edd3d2eeff35"
      },
      "execution_count": null,
      "outputs": [
        {
          "output_type": "error",
          "ename": "AttributeError",
          "evalue": "ignored",
          "traceback": [
            "\u001b[0;31m---------------------------------------------------------------------------\u001b[0m",
            "\u001b[0;31mAttributeError\u001b[0m                            Traceback (most recent call last)",
            "\u001b[0;32m<ipython-input-21-ab66a9197201>\u001b[0m in \u001b[0;36m<module>\u001b[0;34m()\u001b[0m\n\u001b[0;32m----> 1\u001b[0;31m \u001b[0mpredictions\u001b[0m \u001b[0;34m=\u001b[0m \u001b[0mMSFT\u001b[0m\u001b[0;34m.\u001b[0m\u001b[0mDataFrame\u001b[0m\u001b[0;34m(\u001b[0m\u001b[0;34m{\u001b[0m\u001b[0;34m\"Predictions\"\u001b[0m\u001b[0;34m:\u001b[0m \u001b[0mpredict\u001b[0m\u001b[0;34m}\u001b[0m\u001b[0;34m,\u001b[0m \u001b[0mindex\u001b[0m\u001b[0;34m=\u001b[0m\u001b[0mpd\u001b[0m\u001b[0;34m.\u001b[0m\u001b[0mdate_range\u001b[0m\u001b[0;34m(\u001b[0m\u001b[0mstart\u001b[0m\u001b[0;34m=\u001b[0m\u001b[0mdf\u001b[0m\u001b[0;34m.\u001b[0m\u001b[0mindex\u001b[0m\u001b[0;34m[\u001b[0m\u001b[0;34m-\u001b[0m\u001b[0;36m1\u001b[0m\u001b[0;34m]\u001b[0m\u001b[0;34m,\u001b[0m \u001b[0mperiods\u001b[0m\u001b[0;34m=\u001b[0m\u001b[0mlen\u001b[0m\u001b[0;34m(\u001b[0m\u001b[0mpredict\u001b[0m\u001b[0;34m)\u001b[0m\u001b[0;34m,\u001b[0m \u001b[0mfreq\u001b[0m\u001b[0;34m=\u001b[0m\u001b[0;34m\"D\"\u001b[0m\u001b[0;34m)\u001b[0m\u001b[0;34m)\u001b[0m\u001b[0;34m\u001b[0m\u001b[0;34m\u001b[0m\u001b[0m\n\u001b[0m\u001b[1;32m      2\u001b[0m \u001b[0mpredictions\u001b[0m\u001b[0;34m.\u001b[0m\u001b[0mto_csv\u001b[0m\u001b[0;34m(\u001b[0m\u001b[0;34m\"Predicted-price-data_msft.csv\"\u001b[0m\u001b[0;34m)\u001b[0m\u001b[0;34m\u001b[0m\u001b[0;34m\u001b[0m\u001b[0m\n\u001b[1;32m      3\u001b[0m \u001b[0;31m#colllects future days from predicted values\u001b[0m\u001b[0;34m\u001b[0m\u001b[0;34m\u001b[0m\u001b[0;34m\u001b[0m\u001b[0m\n\u001b[1;32m      4\u001b[0m \u001b[0moneyear_df\u001b[0m \u001b[0;34m=\u001b[0m \u001b[0mMSFT\u001b[0m\u001b[0;34m.\u001b[0m\u001b[0mDataFrame\u001b[0m\u001b[0;34m(\u001b[0m\u001b[0mpredictions\u001b[0m\u001b[0;34m[\u001b[0m\u001b[0;34m:\u001b[0m\u001b[0;36m252\u001b[0m\u001b[0;34m]\u001b[0m\u001b[0;34m)\u001b[0m\u001b[0;34m\u001b[0m\u001b[0;34m\u001b[0m\u001b[0m\n\u001b[1;32m      5\u001b[0m \u001b[0moneyear_df\u001b[0m\u001b[0;34m.\u001b[0m\u001b[0mto_csv\u001b[0m\u001b[0;34m(\u001b[0m\u001b[0;34m\"one-year-predictions_msft.csv\"\u001b[0m\u001b[0;34m)\u001b[0m\u001b[0;34m\u001b[0m\u001b[0;34m\u001b[0m\u001b[0m\n",
            "\u001b[0;32m/usr/local/lib/python3.7/dist-packages/pandas/core/generic.py\u001b[0m in \u001b[0;36m__getattr__\u001b[0;34m(self, name)\u001b[0m\n\u001b[1;32m   5485\u001b[0m         ):\n\u001b[1;32m   5486\u001b[0m             \u001b[0;32mreturn\u001b[0m \u001b[0mself\u001b[0m\u001b[0;34m[\u001b[0m\u001b[0mname\u001b[0m\u001b[0;34m]\u001b[0m\u001b[0;34m\u001b[0m\u001b[0;34m\u001b[0m\u001b[0m\n\u001b[0;32m-> 5487\u001b[0;31m         \u001b[0;32mreturn\u001b[0m \u001b[0mobject\u001b[0m\u001b[0;34m.\u001b[0m\u001b[0m__getattribute__\u001b[0m\u001b[0;34m(\u001b[0m\u001b[0mself\u001b[0m\u001b[0;34m,\u001b[0m \u001b[0mname\u001b[0m\u001b[0;34m)\u001b[0m\u001b[0;34m\u001b[0m\u001b[0;34m\u001b[0m\u001b[0m\n\u001b[0m\u001b[1;32m   5488\u001b[0m \u001b[0;34m\u001b[0m\u001b[0m\n\u001b[1;32m   5489\u001b[0m     \u001b[0;32mdef\u001b[0m \u001b[0m__setattr__\u001b[0m\u001b[0;34m(\u001b[0m\u001b[0mself\u001b[0m\u001b[0;34m,\u001b[0m \u001b[0mname\u001b[0m\u001b[0;34m:\u001b[0m \u001b[0mstr\u001b[0m\u001b[0;34m,\u001b[0m \u001b[0mvalue\u001b[0m\u001b[0;34m)\u001b[0m \u001b[0;34m->\u001b[0m \u001b[0;32mNone\u001b[0m\u001b[0;34m:\u001b[0m\u001b[0;34m\u001b[0m\u001b[0;34m\u001b[0m\u001b[0m\n",
            "\u001b[0;31mAttributeError\u001b[0m: 'DataFrame' object has no attribute 'DataFrame'"
          ]
        }
      ]
    },
    {
      "cell_type": "code",
      "source": [
        ""
      ],
      "metadata": {
        "id": "BiLKB3VQCCMY"
      },
      "execution_count": null,
      "outputs": []
    },
    {
      "cell_type": "code",
      "source": [
        ""
      ],
      "metadata": {
        "id": "JqEhQzxpCCJ8"
      },
      "execution_count": null,
      "outputs": []
    }
  ]
}