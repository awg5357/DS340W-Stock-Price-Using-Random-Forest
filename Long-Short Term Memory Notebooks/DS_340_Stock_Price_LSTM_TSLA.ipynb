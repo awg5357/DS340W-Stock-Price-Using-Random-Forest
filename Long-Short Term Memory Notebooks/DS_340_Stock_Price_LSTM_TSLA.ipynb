{
  "nbformat": 4,
  "nbformat_minor": 0,
  "metadata": {
    "colab": {
      "name": "DS_340_Stock_Price_LSTM_TSLA.ipynb",
      "provenance": []
    },
    "kernelspec": {
      "name": "python3",
      "display_name": "Python 3"
    },
    "language_info": {
      "name": "python"
    }
  },
  "cells": [
    {
      "cell_type": "code",
      "execution_count": null,
      "metadata": {
        "id": "GF_PQPs4LJ4d"
      },
      "outputs": [],
      "source": [
        "import pandas as pd\n",
        "import numpy as np\n",
        "import matplotlib.pyplot as plt\n",
        "#from sklearn.preprocessing import MinMaxScaler\n",
        "from keras.models import Sequential\n",
        "from keras.layers import Dense, LSTM, Dropout"
      ]
    },
    {
      "cell_type": "code",
      "source": [
        "TSLA = pd.read_csv(\"/content/drive/MyDrive/DS 340W/Final Research Paper/Datasets/TSLA_5Y.csv\")"
      ],
      "metadata": {
        "id": "EAAEIRjsL-yo"
      },
      "execution_count": null,
      "outputs": []
    },
    {
      "cell_type": "code",
      "source": [
        "TSLA.head(10)"
      ],
      "metadata": {
        "colab": {
          "base_uri": "https://localhost:8080/",
          "height": 363
        },
        "id": "nI1GX5-6L-1Q",
        "outputId": "fad49561-854d-404d-ea4d-3a92752df839"
      },
      "execution_count": null,
      "outputs": [
        {
          "output_type": "execute_result",
          "data": {
            "text/plain": [
              "         Date       Open       High        Low      Close  Adj Close    Volume\n",
              "0  2017-03-23  51.077999  51.534000  50.660000  50.956001  50.956001  16601000\n",
              "1  2017-03-24  51.139999  52.778000  51.001999  52.632000  52.632000  28236500\n",
              "2  2017-03-27  52.119999  54.113998  51.950001  54.043999  54.043999  31154000\n",
              "3  2017-03-28  55.403999  56.136002  55.000000  55.490002  55.490002  39938000\n",
              "4  2017-03-29  55.667999  55.919998  55.108002  55.476002  55.476002  18381000\n",
              "5  2017-03-30  55.608002  56.400002  55.442001  55.584000  55.584000  20742000\n",
              "6  2017-03-31  55.745998  55.936001  55.264000  55.660000  55.660000  16473000\n",
              "7  2017-04-03  57.380001  59.799999  56.916000  59.703999  59.703999  69443000\n",
              "8  2017-04-04  59.377998  60.962002  58.905998  60.740002  60.740002  50673000\n",
              "9  2017-04-05  60.408001  60.976002  58.840000  59.000000  59.000000  39404500"
            ],
            "text/html": [
              "\n",
              "  <div id=\"df-79e20955-dbc6-4233-b557-d9e0b64ef999\">\n",
              "    <div class=\"colab-df-container\">\n",
              "      <div>\n",
              "<style scoped>\n",
              "    .dataframe tbody tr th:only-of-type {\n",
              "        vertical-align: middle;\n",
              "    }\n",
              "\n",
              "    .dataframe tbody tr th {\n",
              "        vertical-align: top;\n",
              "    }\n",
              "\n",
              "    .dataframe thead th {\n",
              "        text-align: right;\n",
              "    }\n",
              "</style>\n",
              "<table border=\"1\" class=\"dataframe\">\n",
              "  <thead>\n",
              "    <tr style=\"text-align: right;\">\n",
              "      <th></th>\n",
              "      <th>Date</th>\n",
              "      <th>Open</th>\n",
              "      <th>High</th>\n",
              "      <th>Low</th>\n",
              "      <th>Close</th>\n",
              "      <th>Adj Close</th>\n",
              "      <th>Volume</th>\n",
              "    </tr>\n",
              "  </thead>\n",
              "  <tbody>\n",
              "    <tr>\n",
              "      <th>0</th>\n",
              "      <td>2017-03-23</td>\n",
              "      <td>51.077999</td>\n",
              "      <td>51.534000</td>\n",
              "      <td>50.660000</td>\n",
              "      <td>50.956001</td>\n",
              "      <td>50.956001</td>\n",
              "      <td>16601000</td>\n",
              "    </tr>\n",
              "    <tr>\n",
              "      <th>1</th>\n",
              "      <td>2017-03-24</td>\n",
              "      <td>51.139999</td>\n",
              "      <td>52.778000</td>\n",
              "      <td>51.001999</td>\n",
              "      <td>52.632000</td>\n",
              "      <td>52.632000</td>\n",
              "      <td>28236500</td>\n",
              "    </tr>\n",
              "    <tr>\n",
              "      <th>2</th>\n",
              "      <td>2017-03-27</td>\n",
              "      <td>52.119999</td>\n",
              "      <td>54.113998</td>\n",
              "      <td>51.950001</td>\n",
              "      <td>54.043999</td>\n",
              "      <td>54.043999</td>\n",
              "      <td>31154000</td>\n",
              "    </tr>\n",
              "    <tr>\n",
              "      <th>3</th>\n",
              "      <td>2017-03-28</td>\n",
              "      <td>55.403999</td>\n",
              "      <td>56.136002</td>\n",
              "      <td>55.000000</td>\n",
              "      <td>55.490002</td>\n",
              "      <td>55.490002</td>\n",
              "      <td>39938000</td>\n",
              "    </tr>\n",
              "    <tr>\n",
              "      <th>4</th>\n",
              "      <td>2017-03-29</td>\n",
              "      <td>55.667999</td>\n",
              "      <td>55.919998</td>\n",
              "      <td>55.108002</td>\n",
              "      <td>55.476002</td>\n",
              "      <td>55.476002</td>\n",
              "      <td>18381000</td>\n",
              "    </tr>\n",
              "    <tr>\n",
              "      <th>5</th>\n",
              "      <td>2017-03-30</td>\n",
              "      <td>55.608002</td>\n",
              "      <td>56.400002</td>\n",
              "      <td>55.442001</td>\n",
              "      <td>55.584000</td>\n",
              "      <td>55.584000</td>\n",
              "      <td>20742000</td>\n",
              "    </tr>\n",
              "    <tr>\n",
              "      <th>6</th>\n",
              "      <td>2017-03-31</td>\n",
              "      <td>55.745998</td>\n",
              "      <td>55.936001</td>\n",
              "      <td>55.264000</td>\n",
              "      <td>55.660000</td>\n",
              "      <td>55.660000</td>\n",
              "      <td>16473000</td>\n",
              "    </tr>\n",
              "    <tr>\n",
              "      <th>7</th>\n",
              "      <td>2017-04-03</td>\n",
              "      <td>57.380001</td>\n",
              "      <td>59.799999</td>\n",
              "      <td>56.916000</td>\n",
              "      <td>59.703999</td>\n",
              "      <td>59.703999</td>\n",
              "      <td>69443000</td>\n",
              "    </tr>\n",
              "    <tr>\n",
              "      <th>8</th>\n",
              "      <td>2017-04-04</td>\n",
              "      <td>59.377998</td>\n",
              "      <td>60.962002</td>\n",
              "      <td>58.905998</td>\n",
              "      <td>60.740002</td>\n",
              "      <td>60.740002</td>\n",
              "      <td>50673000</td>\n",
              "    </tr>\n",
              "    <tr>\n",
              "      <th>9</th>\n",
              "      <td>2017-04-05</td>\n",
              "      <td>60.408001</td>\n",
              "      <td>60.976002</td>\n",
              "      <td>58.840000</td>\n",
              "      <td>59.000000</td>\n",
              "      <td>59.000000</td>\n",
              "      <td>39404500</td>\n",
              "    </tr>\n",
              "  </tbody>\n",
              "</table>\n",
              "</div>\n",
              "      <button class=\"colab-df-convert\" onclick=\"convertToInteractive('df-79e20955-dbc6-4233-b557-d9e0b64ef999')\"\n",
              "              title=\"Convert this dataframe to an interactive table.\"\n",
              "              style=\"display:none;\">\n",
              "        \n",
              "  <svg xmlns=\"http://www.w3.org/2000/svg\" height=\"24px\"viewBox=\"0 0 24 24\"\n",
              "       width=\"24px\">\n",
              "    <path d=\"M0 0h24v24H0V0z\" fill=\"none\"/>\n",
              "    <path d=\"M18.56 5.44l.94 2.06.94-2.06 2.06-.94-2.06-.94-.94-2.06-.94 2.06-2.06.94zm-11 1L8.5 8.5l.94-2.06 2.06-.94-2.06-.94L8.5 2.5l-.94 2.06-2.06.94zm10 10l.94 2.06.94-2.06 2.06-.94-2.06-.94-.94-2.06-.94 2.06-2.06.94z\"/><path d=\"M17.41 7.96l-1.37-1.37c-.4-.4-.92-.59-1.43-.59-.52 0-1.04.2-1.43.59L10.3 9.45l-7.72 7.72c-.78.78-.78 2.05 0 2.83L4 21.41c.39.39.9.59 1.41.59.51 0 1.02-.2 1.41-.59l7.78-7.78 2.81-2.81c.8-.78.8-2.07 0-2.86zM5.41 20L4 18.59l7.72-7.72 1.47 1.35L5.41 20z\"/>\n",
              "  </svg>\n",
              "      </button>\n",
              "      \n",
              "  <style>\n",
              "    .colab-df-container {\n",
              "      display:flex;\n",
              "      flex-wrap:wrap;\n",
              "      gap: 12px;\n",
              "    }\n",
              "\n",
              "    .colab-df-convert {\n",
              "      background-color: #E8F0FE;\n",
              "      border: none;\n",
              "      border-radius: 50%;\n",
              "      cursor: pointer;\n",
              "      display: none;\n",
              "      fill: #1967D2;\n",
              "      height: 32px;\n",
              "      padding: 0 0 0 0;\n",
              "      width: 32px;\n",
              "    }\n",
              "\n",
              "    .colab-df-convert:hover {\n",
              "      background-color: #E2EBFA;\n",
              "      box-shadow: 0px 1px 2px rgba(60, 64, 67, 0.3), 0px 1px 3px 1px rgba(60, 64, 67, 0.15);\n",
              "      fill: #174EA6;\n",
              "    }\n",
              "\n",
              "    [theme=dark] .colab-df-convert {\n",
              "      background-color: #3B4455;\n",
              "      fill: #D2E3FC;\n",
              "    }\n",
              "\n",
              "    [theme=dark] .colab-df-convert:hover {\n",
              "      background-color: #434B5C;\n",
              "      box-shadow: 0px 1px 3px 1px rgba(0, 0, 0, 0.15);\n",
              "      filter: drop-shadow(0px 1px 2px rgba(0, 0, 0, 0.3));\n",
              "      fill: #FFFFFF;\n",
              "    }\n",
              "  </style>\n",
              "\n",
              "      <script>\n",
              "        const buttonEl =\n",
              "          document.querySelector('#df-79e20955-dbc6-4233-b557-d9e0b64ef999 button.colab-df-convert');\n",
              "        buttonEl.style.display =\n",
              "          google.colab.kernel.accessAllowed ? 'block' : 'none';\n",
              "\n",
              "        async function convertToInteractive(key) {\n",
              "          const element = document.querySelector('#df-79e20955-dbc6-4233-b557-d9e0b64ef999');\n",
              "          const dataTable =\n",
              "            await google.colab.kernel.invokeFunction('convertToInteractive',\n",
              "                                                     [key], {});\n",
              "          if (!dataTable) return;\n",
              "\n",
              "          const docLinkHtml = 'Like what you see? Visit the ' +\n",
              "            '<a target=\"_blank\" href=https://colab.research.google.com/notebooks/data_table.ipynb>data table notebook</a>'\n",
              "            + ' to learn more about interactive tables.';\n",
              "          element.innerHTML = '';\n",
              "          dataTable['output_type'] = 'display_data';\n",
              "          await google.colab.output.renderOutput(dataTable, element);\n",
              "          const docLink = document.createElement('div');\n",
              "          docLink.innerHTML = docLinkHtml;\n",
              "          element.appendChild(docLink);\n",
              "        }\n",
              "      </script>\n",
              "    </div>\n",
              "  </div>\n",
              "  "
            ]
          },
          "metadata": {},
          "execution_count": 3
        }
      ]
    },
    {
      "cell_type": "code",
      "source": [
        "TSLA.info()"
      ],
      "metadata": {
        "colab": {
          "base_uri": "https://localhost:8080/"
        },
        "id": "To_cTCAqL-39",
        "outputId": "29e196b5-b6ed-48a8-eba1-0ee1fae4771f"
      },
      "execution_count": null,
      "outputs": [
        {
          "output_type": "stream",
          "name": "stdout",
          "text": [
            "<class 'pandas.core.frame.DataFrame'>\n",
            "RangeIndex: 1259 entries, 0 to 1258\n",
            "Data columns (total 7 columns):\n",
            " #   Column     Non-Null Count  Dtype  \n",
            "---  ------     --------------  -----  \n",
            " 0   Date       1259 non-null   object \n",
            " 1   Open       1259 non-null   float64\n",
            " 2   High       1259 non-null   float64\n",
            " 3   Low        1259 non-null   float64\n",
            " 4   Close      1259 non-null   float64\n",
            " 5   Adj Close  1259 non-null   float64\n",
            " 6   Volume     1259 non-null   int64  \n",
            "dtypes: float64(5), int64(1), object(1)\n",
            "memory usage: 69.0+ KB\n"
          ]
        }
      ]
    },
    {
      "cell_type": "code",
      "source": [
        "TSLA_NEW=TSLA.dropna(axis=0)\n",
        "TSLA_NEW"
      ],
      "metadata": {
        "colab": {
          "base_uri": "https://localhost:8080/",
          "height": 423
        },
        "id": "l3lL2Gu1L-7V",
        "outputId": "c4fc51b6-faf5-42c5-d5ce-8aaf903d6c77"
      },
      "execution_count": null,
      "outputs": [
        {
          "output_type": "execute_result",
          "data": {
            "text/plain": [
              "            Date        Open        High         Low       Close   Adj Close  \\\n",
              "0     2017-03-23   51.077999   51.534000   50.660000   50.956001   50.956001   \n",
              "1     2017-03-24   51.139999   52.778000   51.001999   52.632000   52.632000   \n",
              "2     2017-03-27   52.119999   54.113998   51.950001   54.043999   54.043999   \n",
              "3     2017-03-28   55.403999   56.136002   55.000000   55.490002   55.490002   \n",
              "4     2017-03-29   55.667999   55.919998   55.108002   55.476002   55.476002   \n",
              "...          ...         ...         ...         ...         ...         ...   \n",
              "1254  2022-03-16  809.000000  842.000000  802.260010  840.229980  840.229980   \n",
              "1255  2022-03-17  830.989990  875.000000  825.719971  871.599976  871.599976   \n",
              "1256  2022-03-18  874.489990  907.849976  867.390015  905.390015  905.390015   \n",
              "1257  2022-03-21  914.979980  942.849976  907.090027  921.159973  921.159973   \n",
              "1258  2022-03-22  930.000000  997.859985  921.750000  993.979980  993.979980   \n",
              "\n",
              "        Volume  \n",
              "0     16601000  \n",
              "1     28236500  \n",
              "2     31154000  \n",
              "3     39938000  \n",
              "4     18381000  \n",
              "...        ...  \n",
              "1254  28009600  \n",
              "1255  22194300  \n",
              "1256  33408500  \n",
              "1257  27327200  \n",
              "1258  35289500  \n",
              "\n",
              "[1259 rows x 7 columns]"
            ],
            "text/html": [
              "\n",
              "  <div id=\"df-31ac5302-6746-4f44-b936-5e79551b07cc\">\n",
              "    <div class=\"colab-df-container\">\n",
              "      <div>\n",
              "<style scoped>\n",
              "    .dataframe tbody tr th:only-of-type {\n",
              "        vertical-align: middle;\n",
              "    }\n",
              "\n",
              "    .dataframe tbody tr th {\n",
              "        vertical-align: top;\n",
              "    }\n",
              "\n",
              "    .dataframe thead th {\n",
              "        text-align: right;\n",
              "    }\n",
              "</style>\n",
              "<table border=\"1\" class=\"dataframe\">\n",
              "  <thead>\n",
              "    <tr style=\"text-align: right;\">\n",
              "      <th></th>\n",
              "      <th>Date</th>\n",
              "      <th>Open</th>\n",
              "      <th>High</th>\n",
              "      <th>Low</th>\n",
              "      <th>Close</th>\n",
              "      <th>Adj Close</th>\n",
              "      <th>Volume</th>\n",
              "    </tr>\n",
              "  </thead>\n",
              "  <tbody>\n",
              "    <tr>\n",
              "      <th>0</th>\n",
              "      <td>2017-03-23</td>\n",
              "      <td>51.077999</td>\n",
              "      <td>51.534000</td>\n",
              "      <td>50.660000</td>\n",
              "      <td>50.956001</td>\n",
              "      <td>50.956001</td>\n",
              "      <td>16601000</td>\n",
              "    </tr>\n",
              "    <tr>\n",
              "      <th>1</th>\n",
              "      <td>2017-03-24</td>\n",
              "      <td>51.139999</td>\n",
              "      <td>52.778000</td>\n",
              "      <td>51.001999</td>\n",
              "      <td>52.632000</td>\n",
              "      <td>52.632000</td>\n",
              "      <td>28236500</td>\n",
              "    </tr>\n",
              "    <tr>\n",
              "      <th>2</th>\n",
              "      <td>2017-03-27</td>\n",
              "      <td>52.119999</td>\n",
              "      <td>54.113998</td>\n",
              "      <td>51.950001</td>\n",
              "      <td>54.043999</td>\n",
              "      <td>54.043999</td>\n",
              "      <td>31154000</td>\n",
              "    </tr>\n",
              "    <tr>\n",
              "      <th>3</th>\n",
              "      <td>2017-03-28</td>\n",
              "      <td>55.403999</td>\n",
              "      <td>56.136002</td>\n",
              "      <td>55.000000</td>\n",
              "      <td>55.490002</td>\n",
              "      <td>55.490002</td>\n",
              "      <td>39938000</td>\n",
              "    </tr>\n",
              "    <tr>\n",
              "      <th>4</th>\n",
              "      <td>2017-03-29</td>\n",
              "      <td>55.667999</td>\n",
              "      <td>55.919998</td>\n",
              "      <td>55.108002</td>\n",
              "      <td>55.476002</td>\n",
              "      <td>55.476002</td>\n",
              "      <td>18381000</td>\n",
              "    </tr>\n",
              "    <tr>\n",
              "      <th>...</th>\n",
              "      <td>...</td>\n",
              "      <td>...</td>\n",
              "      <td>...</td>\n",
              "      <td>...</td>\n",
              "      <td>...</td>\n",
              "      <td>...</td>\n",
              "      <td>...</td>\n",
              "    </tr>\n",
              "    <tr>\n",
              "      <th>1254</th>\n",
              "      <td>2022-03-16</td>\n",
              "      <td>809.000000</td>\n",
              "      <td>842.000000</td>\n",
              "      <td>802.260010</td>\n",
              "      <td>840.229980</td>\n",
              "      <td>840.229980</td>\n",
              "      <td>28009600</td>\n",
              "    </tr>\n",
              "    <tr>\n",
              "      <th>1255</th>\n",
              "      <td>2022-03-17</td>\n",
              "      <td>830.989990</td>\n",
              "      <td>875.000000</td>\n",
              "      <td>825.719971</td>\n",
              "      <td>871.599976</td>\n",
              "      <td>871.599976</td>\n",
              "      <td>22194300</td>\n",
              "    </tr>\n",
              "    <tr>\n",
              "      <th>1256</th>\n",
              "      <td>2022-03-18</td>\n",
              "      <td>874.489990</td>\n",
              "      <td>907.849976</td>\n",
              "      <td>867.390015</td>\n",
              "      <td>905.390015</td>\n",
              "      <td>905.390015</td>\n",
              "      <td>33408500</td>\n",
              "    </tr>\n",
              "    <tr>\n",
              "      <th>1257</th>\n",
              "      <td>2022-03-21</td>\n",
              "      <td>914.979980</td>\n",
              "      <td>942.849976</td>\n",
              "      <td>907.090027</td>\n",
              "      <td>921.159973</td>\n",
              "      <td>921.159973</td>\n",
              "      <td>27327200</td>\n",
              "    </tr>\n",
              "    <tr>\n",
              "      <th>1258</th>\n",
              "      <td>2022-03-22</td>\n",
              "      <td>930.000000</td>\n",
              "      <td>997.859985</td>\n",
              "      <td>921.750000</td>\n",
              "      <td>993.979980</td>\n",
              "      <td>993.979980</td>\n",
              "      <td>35289500</td>\n",
              "    </tr>\n",
              "  </tbody>\n",
              "</table>\n",
              "<p>1259 rows × 7 columns</p>\n",
              "</div>\n",
              "      <button class=\"colab-df-convert\" onclick=\"convertToInteractive('df-31ac5302-6746-4f44-b936-5e79551b07cc')\"\n",
              "              title=\"Convert this dataframe to an interactive table.\"\n",
              "              style=\"display:none;\">\n",
              "        \n",
              "  <svg xmlns=\"http://www.w3.org/2000/svg\" height=\"24px\"viewBox=\"0 0 24 24\"\n",
              "       width=\"24px\">\n",
              "    <path d=\"M0 0h24v24H0V0z\" fill=\"none\"/>\n",
              "    <path d=\"M18.56 5.44l.94 2.06.94-2.06 2.06-.94-2.06-.94-.94-2.06-.94 2.06-2.06.94zm-11 1L8.5 8.5l.94-2.06 2.06-.94-2.06-.94L8.5 2.5l-.94 2.06-2.06.94zm10 10l.94 2.06.94-2.06 2.06-.94-2.06-.94-.94-2.06-.94 2.06-2.06.94z\"/><path d=\"M17.41 7.96l-1.37-1.37c-.4-.4-.92-.59-1.43-.59-.52 0-1.04.2-1.43.59L10.3 9.45l-7.72 7.72c-.78.78-.78 2.05 0 2.83L4 21.41c.39.39.9.59 1.41.59.51 0 1.02-.2 1.41-.59l7.78-7.78 2.81-2.81c.8-.78.8-2.07 0-2.86zM5.41 20L4 18.59l7.72-7.72 1.47 1.35L5.41 20z\"/>\n",
              "  </svg>\n",
              "      </button>\n",
              "      \n",
              "  <style>\n",
              "    .colab-df-container {\n",
              "      display:flex;\n",
              "      flex-wrap:wrap;\n",
              "      gap: 12px;\n",
              "    }\n",
              "\n",
              "    .colab-df-convert {\n",
              "      background-color: #E8F0FE;\n",
              "      border: none;\n",
              "      border-radius: 50%;\n",
              "      cursor: pointer;\n",
              "      display: none;\n",
              "      fill: #1967D2;\n",
              "      height: 32px;\n",
              "      padding: 0 0 0 0;\n",
              "      width: 32px;\n",
              "    }\n",
              "\n",
              "    .colab-df-convert:hover {\n",
              "      background-color: #E2EBFA;\n",
              "      box-shadow: 0px 1px 2px rgba(60, 64, 67, 0.3), 0px 1px 3px 1px rgba(60, 64, 67, 0.15);\n",
              "      fill: #174EA6;\n",
              "    }\n",
              "\n",
              "    [theme=dark] .colab-df-convert {\n",
              "      background-color: #3B4455;\n",
              "      fill: #D2E3FC;\n",
              "    }\n",
              "\n",
              "    [theme=dark] .colab-df-convert:hover {\n",
              "      background-color: #434B5C;\n",
              "      box-shadow: 0px 1px 3px 1px rgba(0, 0, 0, 0.15);\n",
              "      filter: drop-shadow(0px 1px 2px rgba(0, 0, 0, 0.3));\n",
              "      fill: #FFFFFF;\n",
              "    }\n",
              "  </style>\n",
              "\n",
              "      <script>\n",
              "        const buttonEl =\n",
              "          document.querySelector('#df-31ac5302-6746-4f44-b936-5e79551b07cc button.colab-df-convert');\n",
              "        buttonEl.style.display =\n",
              "          google.colab.kernel.accessAllowed ? 'block' : 'none';\n",
              "\n",
              "        async function convertToInteractive(key) {\n",
              "          const element = document.querySelector('#df-31ac5302-6746-4f44-b936-5e79551b07cc');\n",
              "          const dataTable =\n",
              "            await google.colab.kernel.invokeFunction('convertToInteractive',\n",
              "                                                     [key], {});\n",
              "          if (!dataTable) return;\n",
              "\n",
              "          const docLinkHtml = 'Like what you see? Visit the ' +\n",
              "            '<a target=\"_blank\" href=https://colab.research.google.com/notebooks/data_table.ipynb>data table notebook</a>'\n",
              "            + ' to learn more about interactive tables.';\n",
              "          element.innerHTML = '';\n",
              "          dataTable['output_type'] = 'display_data';\n",
              "          await google.colab.output.renderOutput(dataTable, element);\n",
              "          const docLink = document.createElement('div');\n",
              "          docLink.innerHTML = docLinkHtml;\n",
              "          element.appendChild(docLink);\n",
              "        }\n",
              "      </script>\n",
              "    </div>\n",
              "  </div>\n",
              "  "
            ]
          },
          "metadata": {},
          "execution_count": 5
        }
      ]
    },
    {
      "cell_type": "code",
      "source": [
        "TSLA_NEW.info()"
      ],
      "metadata": {
        "colab": {
          "base_uri": "https://localhost:8080/"
        },
        "id": "K7PM96_pL-8x",
        "outputId": "42cbcd1c-9227-4250-fc75-e7e6b07690d5"
      },
      "execution_count": null,
      "outputs": [
        {
          "output_type": "stream",
          "name": "stdout",
          "text": [
            "<class 'pandas.core.frame.DataFrame'>\n",
            "Int64Index: 1259 entries, 0 to 1258\n",
            "Data columns (total 7 columns):\n",
            " #   Column     Non-Null Count  Dtype  \n",
            "---  ------     --------------  -----  \n",
            " 0   Date       1259 non-null   object \n",
            " 1   Open       1259 non-null   float64\n",
            " 2   High       1259 non-null   float64\n",
            " 3   Low        1259 non-null   float64\n",
            " 4   Close      1259 non-null   float64\n",
            " 5   Adj Close  1259 non-null   float64\n",
            " 6   Volume     1259 non-null   int64  \n",
            "dtypes: float64(5), int64(1), object(1)\n",
            "memory usage: 78.7+ KB\n"
          ]
        }
      ]
    },
    {
      "cell_type": "code",
      "source": [
        "TSLA_NEW['Close']=pd.to_numeric(TSLA_NEW.Close,errors='coerce')\n",
        "TSLA_NEW = TSLA_NEW.dropna()\n",
        "TSLA_TRAIN = TSLA_NEW.iloc[:,4:5].values"
      ],
      "metadata": {
        "id": "5qd2S9_TL--L"
      },
      "execution_count": null,
      "outputs": []
    },
    {
      "cell_type": "code",
      "source": [
        "TSLA_NEW.info()"
      ],
      "metadata": {
        "colab": {
          "base_uri": "https://localhost:8080/"
        },
        "id": "rKHz-HO5L-_o",
        "outputId": "05e2ee34-7185-42de-a899-d0d921d1583d"
      },
      "execution_count": null,
      "outputs": [
        {
          "output_type": "stream",
          "name": "stdout",
          "text": [
            "<class 'pandas.core.frame.DataFrame'>\n",
            "Int64Index: 1259 entries, 0 to 1258\n",
            "Data columns (total 7 columns):\n",
            " #   Column     Non-Null Count  Dtype  \n",
            "---  ------     --------------  -----  \n",
            " 0   Date       1259 non-null   object \n",
            " 1   Open       1259 non-null   float64\n",
            " 2   High       1259 non-null   float64\n",
            " 3   Low        1259 non-null   float64\n",
            " 4   Close      1259 non-null   float64\n",
            " 5   Adj Close  1259 non-null   float64\n",
            " 6   Volume     1259 non-null   int64  \n",
            "dtypes: float64(5), int64(1), object(1)\n",
            "memory usage: 78.7+ KB\n"
          ]
        }
      ]
    },
    {
      "cell_type": "code",
      "source": [
        "sc = MinMaxScaler(feature_range=(0,1))\n",
        "TSLA_TRAIN = sc.fit_transform(TSLA_TRAIN)\n",
        "TSLA_TRAIN.shape"
      ],
      "metadata": {
        "colab": {
          "base_uri": "https://localhost:8080/"
        },
        "id": "ohF4Zp-VL_A5",
        "outputId": "338f5d8d-6e01-46df-8da3-4d91e95cb743"
      },
      "execution_count": null,
      "outputs": [
        {
          "output_type": "execute_result",
          "data": {
            "text/plain": [
              "(1259, 1)"
            ]
          },
          "metadata": {},
          "execution_count": 9
        }
      ]
    },
    {
      "cell_type": "code",
      "source": [
        "x_train = []\n",
        "y_train = []\n",
        "\n",
        "for i in range (60,1227):\n",
        "  x_train.append(TSLA_TRAIN[i-60:i,0])\n",
        "  y_train.append(TSLA_TRAIN[i,0])\n",
        "\n",
        "x_train, y_train = np.array(x_train), np.array(y_train)"
      ],
      "metadata": {
        "id": "wv81FUn8L_CM"
      },
      "execution_count": null,
      "outputs": []
    },
    {
      "cell_type": "code",
      "source": [
        "x_train = np.reshape(x_train,(x_train.shape[0],x_train.shape[1],1))\n",
        "x_train.shape"
      ],
      "metadata": {
        "colab": {
          "base_uri": "https://localhost:8080/"
        },
        "id": "uDt4RRB6L_DE",
        "outputId": "e3d4eebe-2e90-4150-bc41-6869b196865a"
      },
      "execution_count": null,
      "outputs": [
        {
          "output_type": "execute_result",
          "data": {
            "text/plain": [
              "(1167, 60, 1)"
            ]
          },
          "metadata": {},
          "execution_count": 11
        }
      ]
    },
    {
      "cell_type": "code",
      "source": [
        "model = Sequential()\n",
        "\n",
        "model.add(LSTM(units=100, return_sequences= True, input_shape=(x_train.shape[1],1)))\n",
        "model.add(Dropout(0.2))\n",
        "\n",
        "model.add(LSTM(units=100, return_sequences= True))\n",
        "model.add(Dropout(0.2))\n",
        "\n",
        "\n",
        "model.add(LSTM(units=100, return_sequences= True))\n",
        "model.add(Dropout(0.2))\n",
        "\n",
        "\n",
        "model.add(LSTM(units=100, return_sequences= False))\n",
        "model.add(Dropout(0.2))\n",
        "\n",
        "\n",
        "model.add(Dense(units=1))\n",
        "model.compile(optimizer='adam', loss='mean_squared_error')"
      ],
      "metadata": {
        "id": "TaeWAhwbL_Ev"
      },
      "execution_count": null,
      "outputs": []
    },
    {
      "cell_type": "code",
      "source": [
        "hist = model.fit(x_train, y_train, epochs=20, batch_size=32, verbose=2)"
      ],
      "metadata": {
        "colab": {
          "base_uri": "https://localhost:8080/"
        },
        "id": "BgpD0QwpL_F_",
        "outputId": "47b8b024-2719-40b3-b0e5-81015cf7d366"
      },
      "execution_count": null,
      "outputs": [
        {
          "output_type": "stream",
          "name": "stdout",
          "text": [
            "Epoch 1/20\n",
            "37/37 - 16s - loss: 0.0152 - 16s/epoch - 427ms/step\n",
            "Epoch 2/20\n",
            "37/37 - 8s - loss: 0.0028 - 8s/epoch - 203ms/step\n",
            "Epoch 3/20\n",
            "37/37 - 7s - loss: 0.0024 - 7s/epoch - 202ms/step\n",
            "Epoch 4/20\n",
            "37/37 - 7s - loss: 0.0031 - 7s/epoch - 200ms/step\n",
            "Epoch 5/20\n",
            "37/37 - 7s - loss: 0.0031 - 7s/epoch - 202ms/step\n",
            "Epoch 6/20\n",
            "37/37 - 8s - loss: 0.0030 - 8s/epoch - 219ms/step\n",
            "Epoch 7/20\n",
            "37/37 - 7s - loss: 0.0021 - 7s/epoch - 202ms/step\n",
            "Epoch 8/20\n",
            "37/37 - 7s - loss: 0.0021 - 7s/epoch - 201ms/step\n",
            "Epoch 9/20\n",
            "37/37 - 8s - loss: 0.0020 - 8s/epoch - 204ms/step\n",
            "Epoch 10/20\n",
            "37/37 - 7s - loss: 0.0022 - 7s/epoch - 202ms/step\n",
            "Epoch 11/20\n",
            "37/37 - 7s - loss: 0.0021 - 7s/epoch - 202ms/step\n",
            "Epoch 12/20\n",
            "37/37 - 7s - loss: 0.0022 - 7s/epoch - 202ms/step\n",
            "Epoch 13/20\n",
            "37/37 - 7s - loss: 0.0027 - 7s/epoch - 203ms/step\n",
            "Epoch 14/20\n",
            "37/37 - 7s - loss: 0.0018 - 7s/epoch - 202ms/step\n",
            "Epoch 15/20\n",
            "37/37 - 7s - loss: 0.0016 - 7s/epoch - 201ms/step\n",
            "Epoch 16/20\n",
            "37/37 - 7s - loss: 0.0017 - 7s/epoch - 202ms/step\n",
            "Epoch 17/20\n",
            "37/37 - 8s - loss: 0.0017 - 8s/epoch - 204ms/step\n",
            "Epoch 18/20\n",
            "37/37 - 7s - loss: 0.0015 - 7s/epoch - 202ms/step\n",
            "Epoch 19/20\n",
            "37/37 - 7s - loss: 0.0014 - 7s/epoch - 201ms/step\n",
            "Epoch 20/20\n",
            "37/37 - 8s - loss: 0.0013 - 8s/epoch - 218ms/step\n"
          ]
        }
      ]
    },
    {
      "cell_type": "code",
      "source": [
        "plt.plot(hist.history['loss'])\n",
        "plt.title('Training model loss')\n",
        "plt.ylabel('Loss')\n",
        "plt.xlabel('epoch')\n",
        "plt.legend(['train'],loc='upper left')\n",
        "plt.show()"
      ],
      "metadata": {
        "colab": {
          "base_uri": "https://localhost:8080/",
          "height": 295
        },
        "id": "9SzuWhm5L_HD",
        "outputId": "749b7903-e02a-48d4-bcac-8667bd5f89e3"
      },
      "execution_count": null,
      "outputs": [
        {
          "output_type": "display_data",
          "data": {
            "text/plain": [
              "<Figure size 432x288 with 1 Axes>"
            ],
            "image/png": "[encoded data removed]"
          },
          "metadata": {
            "needs_background": "light"
          }
        }
      ]
    },
    {
      "cell_type": "code",
      "source": [
        "TSLA_NEW.columns"
      ],
      "metadata": {
        "colab": {
          "base_uri": "https://localhost:8080/"
        },
        "id": "ufLCP35FL_IU",
        "outputId": "a50b944c-3e08-45e3-faf8-a4d4dbf60c72"
      },
      "execution_count": null,
      "outputs": [
        {
          "output_type": "execute_result",
          "data": {
            "text/plain": [
              "Index(['Date', 'Open', 'High', 'Low', 'Close', 'Adj Close', 'Volume'], dtype='object')"
            ]
          },
          "metadata": {},
          "execution_count": 15
        }
      ]
    },
    {
      "cell_type": "code",
      "source": [
        "TSLA_TEST = pd.read_csv(\"/content/drive/MyDrive/DS 340W/Final Research Paper/Datasets/TSLA_5Y.csv\")\n",
        "TSLA_TEST[\"Close\"]=pd.to_numeric(TSLA_TEST.Close, errors='coerce')\n",
        "TSLA_TEST = TSLA_TEST.dropna()\n",
        "TSLA_TEST = TSLA_TEST.iloc[:,4:5]\n",
        "y_test = TSLA_TEST.iloc[60:,0:].values\n",
        "\n",
        "inputClosing = TSLA_TEST.iloc[:,0:].values\n",
        "inputClosing_scaled = sc.transform(inputClosing)\n",
        "inputClosing_scaled.shape\n",
        "x_test = []\n",
        "length = len(TSLA_TEST)\n",
        "timestep = 60\n",
        "for i in range (timestep, length):\n",
        "  x_test.append(inputClosing_scaled[i-timestep:i,0])\n",
        "x_test = np.array(x_test)\n",
        "x_test = np.reshape(x_test, (x_test.shape[0],x_test.shape[1],1))\n",
        "x_test.shape"
      ],
      "metadata": {
        "colab": {
          "base_uri": "https://localhost:8080/"
        },
        "id": "jRV-WAcaL_JQ",
        "outputId": "555e3cf5-9074-4e20-c823-51124c179b74"
      },
      "execution_count": null,
      "outputs": [
        {
          "output_type": "execute_result",
          "data": {
            "text/plain": [
              "(1199, 60, 1)"
            ]
          },
          "metadata": {},
          "execution_count": 16
        }
      ]
    },
    {
      "cell_type": "code",
      "source": [
        "y_predict = model.predict(x_test)\n",
        "y_predict"
      ],
      "metadata": {
        "colab": {
          "base_uri": "https://localhost:8080/"
        },
        "id": "OEQHmyrGL_K7",
        "outputId": "a5f0b46b-d7ee-4d6f-c888-416c4405e9d7"
      },
      "execution_count": null,
      "outputs": [
        {
          "output_type": "execute_result",
          "data": {
            "text/plain": [
              "array([[0.03299105],\n",
              "       [0.03339405],\n",
              "       [0.03366734],\n",
              "       ...,\n",
              "       [0.6261881 ],\n",
              "       [0.62827843],\n",
              "       [0.63630193]], dtype=float32)"
            ]
          },
          "metadata": {},
          "execution_count": 17
        }
      ]
    },
    {
      "cell_type": "code",
      "source": [
        "predicted_price = sc.inverse_transform(y_predict)"
      ],
      "metadata": {
        "id": "aaK8m4EjL_L3"
      },
      "execution_count": null,
      "outputs": []
    },
    {
      "cell_type": "code",
      "source": [
        "plt.plot(y_test, color='red', label='ACTUAL STOCK PRICE')\n",
        "plt.plot(predicted_price, color='green', label='PREDICTED STOCK PRICE')\n",
        "plt.title('TSLA STOCK PRICE PREDICTION')\n",
        "plt.xlabel('TIME')\n",
        "plt.ylabel('STOCK PRICE')\n",
        "plt.legend()\n",
        "plt.xlim([1000, 1200])\n",
        "plt.show()"
      ],
      "metadata": {
        "colab": {
          "base_uri": "https://localhost:8080/",
          "height": 295
        },
        "id": "QR5V_Fc8Mmud",
        "outputId": "50c115c9-bab5-47bb-c761-9f203ae5af1a"
      },
      "execution_count": null,
      "outputs": [
        {
          "output_type": "display_data",
          "data": {
            "text/plain": [
              "<Figure size 432x288 with 1 Axes>"
            ],
            "image/png": "[encoded data removed]"
          },
          "metadata": {
            "needs_background": "light"
          }
        }
      ]
    },
    {
      "cell_type": "code",
      "source": [
        "from sklearn import metrics"
      ],
      "metadata": {
        "id": "clV_9CesPWC-"
      },
      "execution_count": null,
      "outputs": []
    },
    {
      "cell_type": "code",
      "source": [
        ""
      ],
      "metadata": {
        "id": "9QwMNCnuP4fr"
      },
      "execution_count": null,
      "outputs": []
    }
  ]
}