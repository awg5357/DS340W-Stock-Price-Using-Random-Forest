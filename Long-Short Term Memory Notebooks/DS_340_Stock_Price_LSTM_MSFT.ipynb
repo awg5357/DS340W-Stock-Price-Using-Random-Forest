{
  "nbformat": 4,
  "nbformat_minor": 0,
  "metadata": {
    "colab": {
      "name": "DS_340_Stock_Price_LSTM_MSFT.ipynb",
      "provenance": []
    },
    "kernelspec": {
      "name": "python3",
      "display_name": "Python 3"
    },
    "language_info": {
      "name": "python"
    }
  },
  "cells": [
    {
      "cell_type": "code",
      "execution_count": 1,
      "metadata": {
        "id": "GF_PQPs4LJ4d"
      },
      "outputs": [],
      "source": [
        "import pandas as pd\n",
        "import numpy as np\n",
        "import matplotlib.pyplot as plt\n",
        "from sklearn.preprocessing import MinMaxScaler\n",
        "from keras.models import Sequential\n",
        "from keras.layers import Dense, LSTM, Dropout"
      ]
    },
    {
      "cell_type": "code",
      "source": [
        "from google.colab import drive\n",
        "drive.mount('/content/drive')"
      ],
      "metadata": {
        "colab": {
          "base_uri": "https://localhost:8080/"
        },
        "id": "N4cJ9bei_rC6",
        "outputId": "dee9407d-dbb7-4756-ecdb-b9e759ece8e4"
      },
      "execution_count": 3,
      "outputs": [
        {
          "output_type": "stream",
          "name": "stdout",
          "text": [
            "Mounted at /content/drive\n"
          ]
        }
      ]
    },
    {
      "cell_type": "code",
      "source": [
        "MSFT = pd.read_csv(\"/content/drive/MyDrive/DS 340W/Final Research Paper/Datasets/MSFT_5Y.csv\")"
      ],
      "metadata": {
        "id": "EAAEIRjsL-yo"
      },
      "execution_count": 4,
      "outputs": []
    },
    {
      "cell_type": "code",
      "source": [
        "MSFT.head(10)"
      ],
      "metadata": {
        "colab": {
          "base_uri": "https://localhost:8080/",
          "height": 363
        },
        "id": "nI1GX5-6L-1Q",
        "outputId": "8eea6d43-260e-4168-f097-ca6653796d02"
      },
      "execution_count": 5,
      "outputs": [
        {
          "output_type": "execute_result",
          "data": {
            "text/plain": [
              "         Date       Open       High        Low      Close  Adj Close    Volume\n",
              "0  2017-03-22  64.120003  65.139999  64.120003  65.029999  60.704510  20680000\n",
              "1  2017-03-23  64.940002  65.239998  64.769997  64.870003  60.555168  19269200\n",
              "2  2017-03-24  65.360001  65.449997  64.760002  64.980003  60.657841  22617100\n",
              "3  2017-03-27  64.629997  65.220001  64.349998  65.099998  60.769852  18614700\n",
              "4  2017-03-28  64.959999  65.470001  64.650002  65.290001  60.947208  20080400\n",
              "5  2017-03-29  65.120003  65.500000  64.949997  65.470001  61.115242  13618400\n",
              "6  2017-03-30  65.419998  65.980003  65.360001  65.709999  61.339275  15122800\n",
              "7  2017-03-31  65.650002  66.190002  65.449997  65.860001  61.479309  21040300\n",
              "8  2017-04-03  65.809998  65.940002  65.190002  65.550003  61.189915  20400900\n",
              "9  2017-04-04  65.389999  65.809998  65.279999  65.730003  61.357964  12997400"
            ],
            "text/html": [
              "\n",
              "  <div id=\"df-4010dc41-55b3-41f1-a057-f90903fd6003\">\n",
              "    <div class=\"colab-df-container\">\n",
              "      <div>\n",
              "<style scoped>\n",
              "    .dataframe tbody tr th:only-of-type {\n",
              "        vertical-align: middle;\n",
              "    }\n",
              "\n",
              "    .dataframe tbody tr th {\n",
              "        vertical-align: top;\n",
              "    }\n",
              "\n",
              "    .dataframe thead th {\n",
              "        text-align: right;\n",
              "    }\n",
              "</style>\n",
              "<table border=\"1\" class=\"dataframe\">\n",
              "  <thead>\n",
              "    <tr style=\"text-align: right;\">\n",
              "      <th></th>\n",
              "      <th>Date</th>\n",
              "      <th>Open</th>\n",
              "      <th>High</th>\n",
              "      <th>Low</th>\n",
              "      <th>Close</th>\n",
              "      <th>Adj Close</th>\n",
              "      <th>Volume</th>\n",
              "    </tr>\n",
              "  </thead>\n",
              "  <tbody>\n",
              "    <tr>\n",
              "      <th>0</th>\n",
              "      <td>2017-03-22</td>\n",
              "      <td>64.120003</td>\n",
              "      <td>65.139999</td>\n",
              "      <td>64.120003</td>\n",
              "      <td>65.029999</td>\n",
              "      <td>60.704510</td>\n",
              "      <td>20680000</td>\n",
              "    </tr>\n",
              "    <tr>\n",
              "      <th>1</th>\n",
              "      <td>2017-03-23</td>\n",
              "      <td>64.940002</td>\n",
              "      <td>65.239998</td>\n",
              "      <td>64.769997</td>\n",
              "      <td>64.870003</td>\n",
              "      <td>60.555168</td>\n",
              "      <td>19269200</td>\n",
              "    </tr>\n",
              "    <tr>\n",
              "      <th>2</th>\n",
              "      <td>2017-03-24</td>\n",
              "      <td>65.360001</td>\n",
              "      <td>65.449997</td>\n",
              "      <td>64.760002</td>\n",
              "      <td>64.980003</td>\n",
              "      <td>60.657841</td>\n",
              "      <td>22617100</td>\n",
              "    </tr>\n",
              "    <tr>\n",
              "      <th>3</th>\n",
              "      <td>2017-03-27</td>\n",
              "      <td>64.629997</td>\n",
              "      <td>65.220001</td>\n",
              "      <td>64.349998</td>\n",
              "      <td>65.099998</td>\n",
              "      <td>60.769852</td>\n",
              "      <td>18614700</td>\n",
              "    </tr>\n",
              "    <tr>\n",
              "      <th>4</th>\n",
              "      <td>2017-03-28</td>\n",
              "      <td>64.959999</td>\n",
              "      <td>65.470001</td>\n",
              "      <td>64.650002</td>\n",
              "      <td>65.290001</td>\n",
              "      <td>60.947208</td>\n",
              "      <td>20080400</td>\n",
              "    </tr>\n",
              "    <tr>\n",
              "      <th>5</th>\n",
              "      <td>2017-03-29</td>\n",
              "      <td>65.120003</td>\n",
              "      <td>65.500000</td>\n",
              "      <td>64.949997</td>\n",
              "      <td>65.470001</td>\n",
              "      <td>61.115242</td>\n",
              "      <td>13618400</td>\n",
              "    </tr>\n",
              "    <tr>\n",
              "      <th>6</th>\n",
              "      <td>2017-03-30</td>\n",
              "      <td>65.419998</td>\n",
              "      <td>65.980003</td>\n",
              "      <td>65.360001</td>\n",
              "      <td>65.709999</td>\n",
              "      <td>61.339275</td>\n",
              "      <td>15122800</td>\n",
              "    </tr>\n",
              "    <tr>\n",
              "      <th>7</th>\n",
              "      <td>2017-03-31</td>\n",
              "      <td>65.650002</td>\n",
              "      <td>66.190002</td>\n",
              "      <td>65.449997</td>\n",
              "      <td>65.860001</td>\n",
              "      <td>61.479309</td>\n",
              "      <td>21040300</td>\n",
              "    </tr>\n",
              "    <tr>\n",
              "      <th>8</th>\n",
              "      <td>2017-04-03</td>\n",
              "      <td>65.809998</td>\n",
              "      <td>65.940002</td>\n",
              "      <td>65.190002</td>\n",
              "      <td>65.550003</td>\n",
              "      <td>61.189915</td>\n",
              "      <td>20400900</td>\n",
              "    </tr>\n",
              "    <tr>\n",
              "      <th>9</th>\n",
              "      <td>2017-04-04</td>\n",
              "      <td>65.389999</td>\n",
              "      <td>65.809998</td>\n",
              "      <td>65.279999</td>\n",
              "      <td>65.730003</td>\n",
              "      <td>61.357964</td>\n",
              "      <td>12997400</td>\n",
              "    </tr>\n",
              "  </tbody>\n",
              "</table>\n",
              "</div>\n",
              "      <button class=\"colab-df-convert\" onclick=\"convertToInteractive('df-4010dc41-55b3-41f1-a057-f90903fd6003')\"\n",
              "              title=\"Convert this dataframe to an interactive table.\"\n",
              "              style=\"display:none;\">\n",
              "        \n",
              "  <svg xmlns=\"http://www.w3.org/2000/svg\" height=\"24px\"viewBox=\"0 0 24 24\"\n",
              "       width=\"24px\">\n",
              "    <path d=\"M0 0h24v24H0V0z\" fill=\"none\"/>\n",
              "    <path d=\"M18.56 5.44l.94 2.06.94-2.06 2.06-.94-2.06-.94-.94-2.06-.94 2.06-2.06.94zm-11 1L8.5 8.5l.94-2.06 2.06-.94-2.06-.94L8.5 2.5l-.94 2.06-2.06.94zm10 10l.94 2.06.94-2.06 2.06-.94-2.06-.94-.94-2.06-.94 2.06-2.06.94z\"/><path d=\"M17.41 7.96l-1.37-1.37c-.4-.4-.92-.59-1.43-.59-.52 0-1.04.2-1.43.59L10.3 9.45l-7.72 7.72c-.78.78-.78 2.05 0 2.83L4 21.41c.39.39.9.59 1.41.59.51 0 1.02-.2 1.41-.59l7.78-7.78 2.81-2.81c.8-.78.8-2.07 0-2.86zM5.41 20L4 18.59l7.72-7.72 1.47 1.35L5.41 20z\"/>\n",
              "  </svg>\n",
              "      </button>\n",
              "      \n",
              "  <style>\n",
              "    .colab-df-container {\n",
              "      display:flex;\n",
              "      flex-wrap:wrap;\n",
              "      gap: 12px;\n",
              "    }\n",
              "\n",
              "    .colab-df-convert {\n",
              "      background-color: #E8F0FE;\n",
              "      border: none;\n",
              "      border-radius: 50%;\n",
              "      cursor: pointer;\n",
              "      display: none;\n",
              "      fill: #1967D2;\n",
              "      height: 32px;\n",
              "      padding: 0 0 0 0;\n",
              "      width: 32px;\n",
              "    }\n",
              "\n",
              "    .colab-df-convert:hover {\n",
              "      background-color: #E2EBFA;\n",
              "      box-shadow: 0px 1px 2px rgba(60, 64, 67, 0.3), 0px 1px 3px 1px rgba(60, 64, 67, 0.15);\n",
              "      fill: #174EA6;\n",
              "    }\n",
              "\n",
              "    [theme=dark] .colab-df-convert {\n",
              "      background-color: #3B4455;\n",
              "      fill: #D2E3FC;\n",
              "    }\n",
              "\n",
              "    [theme=dark] .colab-df-convert:hover {\n",
              "      background-color: #434B5C;\n",
              "      box-shadow: 0px 1px 3px 1px rgba(0, 0, 0, 0.15);\n",
              "      filter: drop-shadow(0px 1px 2px rgba(0, 0, 0, 0.3));\n",
              "      fill: #FFFFFF;\n",
              "    }\n",
              "  </style>\n",
              "\n",
              "      <script>\n",
              "        const buttonEl =\n",
              "          document.querySelector('#df-4010dc41-55b3-41f1-a057-f90903fd6003 button.colab-df-convert');\n",
              "        buttonEl.style.display =\n",
              "          google.colab.kernel.accessAllowed ? 'block' : 'none';\n",
              "\n",
              "        async function convertToInteractive(key) {\n",
              "          const element = document.querySelector('#df-4010dc41-55b3-41f1-a057-f90903fd6003');\n",
              "          const dataTable =\n",
              "            await google.colab.kernel.invokeFunction('convertToInteractive',\n",
              "                                                     [key], {});\n",
              "          if (!dataTable) return;\n",
              "\n",
              "          const docLinkHtml = 'Like what you see? Visit the ' +\n",
              "            '<a target=\"_blank\" href=https://colab.research.google.com/notebooks/data_table.ipynb>data table notebook</a>'\n",
              "            + ' to learn more about interactive tables.';\n",
              "          element.innerHTML = '';\n",
              "          dataTable['output_type'] = 'display_data';\n",
              "          await google.colab.output.renderOutput(dataTable, element);\n",
              "          const docLink = document.createElement('div');\n",
              "          docLink.innerHTML = docLinkHtml;\n",
              "          element.appendChild(docLink);\n",
              "        }\n",
              "      </script>\n",
              "    </div>\n",
              "  </div>\n",
              "  "
            ]
          },
          "metadata": {},
          "execution_count": 5
        }
      ]
    },
    {
      "cell_type": "code",
      "source": [
        "MSFT.info()"
      ],
      "metadata": {
        "colab": {
          "base_uri": "https://localhost:8080/"
        },
        "id": "To_cTCAqL-39",
        "outputId": "4bc7e09c-03bb-43e1-9d5b-d5aa9f743973"
      },
      "execution_count": 6,
      "outputs": [
        {
          "output_type": "stream",
          "name": "stdout",
          "text": [
            "<class 'pandas.core.frame.DataFrame'>\n",
            "RangeIndex: 1259 entries, 0 to 1258\n",
            "Data columns (total 7 columns):\n",
            " #   Column     Non-Null Count  Dtype  \n",
            "---  ------     --------------  -----  \n",
            " 0   Date       1259 non-null   object \n",
            " 1   Open       1259 non-null   float64\n",
            " 2   High       1259 non-null   float64\n",
            " 3   Low        1259 non-null   float64\n",
            " 4   Close      1259 non-null   float64\n",
            " 5   Adj Close  1259 non-null   float64\n",
            " 6   Volume     1259 non-null   int64  \n",
            "dtypes: float64(5), int64(1), object(1)\n",
            "memory usage: 69.0+ KB\n"
          ]
        }
      ]
    },
    {
      "cell_type": "code",
      "source": [
        "MSFT_NEW=MSFT.dropna(axis=0)\n",
        "MSFT_NEW"
      ],
      "metadata": {
        "colab": {
          "base_uri": "https://localhost:8080/",
          "height": 424
        },
        "id": "l3lL2Gu1L-7V",
        "outputId": "d4d3c2f3-bf09-47d6-91fd-f5f8949b1cc7"
      },
      "execution_count": 7,
      "outputs": [
        {
          "output_type": "execute_result",
          "data": {
            "text/plain": [
              "            Date        Open        High         Low       Close   Adj Close  \\\n",
              "0     2017-03-22   64.120003   65.139999   64.120003   65.029999   60.704510   \n",
              "1     2017-03-23   64.940002   65.239998   64.769997   64.870003   60.555168   \n",
              "2     2017-03-24   65.360001   65.449997   64.760002   64.980003   60.657841   \n",
              "3     2017-03-27   64.629997   65.220001   64.349998   65.099998   60.769852   \n",
              "4     2017-03-28   64.959999   65.470001   64.650002   65.290001   60.947208   \n",
              "...          ...         ...         ...         ...         ...         ...   \n",
              "1254  2022-03-15  280.350006  287.820007  278.730011  287.149994  287.149994   \n",
              "1255  2022-03-16  289.109985  294.570007  283.200012  294.390015  294.390015   \n",
              "1256  2022-03-17  293.290009  295.609985  289.369995  295.220001  295.220001   \n",
              "1257  2022-03-18  295.369995  301.000000  292.730011  300.429993  300.429993   \n",
              "1258  2022-03-21  298.890015  300.140015  294.899994  299.160004  299.160004   \n",
              "\n",
              "        Volume  \n",
              "0     20680000  \n",
              "1     19269200  \n",
              "2     22617100  \n",
              "3     18614700  \n",
              "4     20080400  \n",
              "...        ...  \n",
              "1254  34245100  \n",
              "1255  37826300  \n",
              "1256  30816600  \n",
              "1257  43317000  \n",
              "1258  28331500  \n",
              "\n",
              "[1259 rows x 7 columns]"
            ],
            "text/html": [
              "\n",
              "  <div id=\"df-5ee69453-3af1-402a-a39f-4cf0184090f1\">\n",
              "    <div class=\"colab-df-container\">\n",
              "      <div>\n",
              "<style scoped>\n",
              "    .dataframe tbody tr th:only-of-type {\n",
              "        vertical-align: middle;\n",
              "    }\n",
              "\n",
              "    .dataframe tbody tr th {\n",
              "        vertical-align: top;\n",
              "    }\n",
              "\n",
              "    .dataframe thead th {\n",
              "        text-align: right;\n",
              "    }\n",
              "</style>\n",
              "<table border=\"1\" class=\"dataframe\">\n",
              "  <thead>\n",
              "    <tr style=\"text-align: right;\">\n",
              "      <th></th>\n",
              "      <th>Date</th>\n",
              "      <th>Open</th>\n",
              "      <th>High</th>\n",
              "      <th>Low</th>\n",
              "      <th>Close</th>\n",
              "      <th>Adj Close</th>\n",
              "      <th>Volume</th>\n",
              "    </tr>\n",
              "  </thead>\n",
              "  <tbody>\n",
              "    <tr>\n",
              "      <th>0</th>\n",
              "      <td>2017-03-22</td>\n",
              "      <td>64.120003</td>\n",
              "      <td>65.139999</td>\n",
              "      <td>64.120003</td>\n",
              "      <td>65.029999</td>\n",
              "      <td>60.704510</td>\n",
              "      <td>20680000</td>\n",
              "    </tr>\n",
              "    <tr>\n",
              "      <th>1</th>\n",
              "      <td>2017-03-23</td>\n",
              "      <td>64.940002</td>\n",
              "      <td>65.239998</td>\n",
              "      <td>64.769997</td>\n",
              "      <td>64.870003</td>\n",
              "      <td>60.555168</td>\n",
              "      <td>19269200</td>\n",
              "    </tr>\n",
              "    <tr>\n",
              "      <th>2</th>\n",
              "      <td>2017-03-24</td>\n",
              "      <td>65.360001</td>\n",
              "      <td>65.449997</td>\n",
              "      <td>64.760002</td>\n",
              "      <td>64.980003</td>\n",
              "      <td>60.657841</td>\n",
              "      <td>22617100</td>\n",
              "    </tr>\n",
              "    <tr>\n",
              "      <th>3</th>\n",
              "      <td>2017-03-27</td>\n",
              "      <td>64.629997</td>\n",
              "      <td>65.220001</td>\n",
              "      <td>64.349998</td>\n",
              "      <td>65.099998</td>\n",
              "      <td>60.769852</td>\n",
              "      <td>18614700</td>\n",
              "    </tr>\n",
              "    <tr>\n",
              "      <th>4</th>\n",
              "      <td>2017-03-28</td>\n",
              "      <td>64.959999</td>\n",
              "      <td>65.470001</td>\n",
              "      <td>64.650002</td>\n",
              "      <td>65.290001</td>\n",
              "      <td>60.947208</td>\n",
              "      <td>20080400</td>\n",
              "    </tr>\n",
              "    <tr>\n",
              "      <th>...</th>\n",
              "      <td>...</td>\n",
              "      <td>...</td>\n",
              "      <td>...</td>\n",
              "      <td>...</td>\n",
              "      <td>...</td>\n",
              "      <td>...</td>\n",
              "      <td>...</td>\n",
              "    </tr>\n",
              "    <tr>\n",
              "      <th>1254</th>\n",
              "      <td>2022-03-15</td>\n",
              "      <td>280.350006</td>\n",
              "      <td>287.820007</td>\n",
              "      <td>278.730011</td>\n",
              "      <td>287.149994</td>\n",
              "      <td>287.149994</td>\n",
              "      <td>34245100</td>\n",
              "    </tr>\n",
              "    <tr>\n",
              "      <th>1255</th>\n",
              "      <td>2022-03-16</td>\n",
              "      <td>289.109985</td>\n",
              "      <td>294.570007</td>\n",
              "      <td>283.200012</td>\n",
              "      <td>294.390015</td>\n",
              "      <td>294.390015</td>\n",
              "      <td>37826300</td>\n",
              "    </tr>\n",
              "    <tr>\n",
              "      <th>1256</th>\n",
              "      <td>2022-03-17</td>\n",
              "      <td>293.290009</td>\n",
              "      <td>295.609985</td>\n",
              "      <td>289.369995</td>\n",
              "      <td>295.220001</td>\n",
              "      <td>295.220001</td>\n",
              "      <td>30816600</td>\n",
              "    </tr>\n",
              "    <tr>\n",
              "      <th>1257</th>\n",
              "      <td>2022-03-18</td>\n",
              "      <td>295.369995</td>\n",
              "      <td>301.000000</td>\n",
              "      <td>292.730011</td>\n",
              "      <td>300.429993</td>\n",
              "      <td>300.429993</td>\n",
              "      <td>43317000</td>\n",
              "    </tr>\n",
              "    <tr>\n",
              "      <th>1258</th>\n",
              "      <td>2022-03-21</td>\n",
              "      <td>298.890015</td>\n",
              "      <td>300.140015</td>\n",
              "      <td>294.899994</td>\n",
              "      <td>299.160004</td>\n",
              "      <td>299.160004</td>\n",
              "      <td>28331500</td>\n",
              "    </tr>\n",
              "  </tbody>\n",
              "</table>\n",
              "<p>1259 rows × 7 columns</p>\n",
              "</div>\n",
              "      <button class=\"colab-df-convert\" onclick=\"convertToInteractive('df-5ee69453-3af1-402a-a39f-4cf0184090f1')\"\n",
              "              title=\"Convert this dataframe to an interactive table.\"\n",
              "              style=\"display:none;\">\n",
              "        \n",
              "  <svg xmlns=\"http://www.w3.org/2000/svg\" height=\"24px\"viewBox=\"0 0 24 24\"\n",
              "       width=\"24px\">\n",
              "    <path d=\"M0 0h24v24H0V0z\" fill=\"none\"/>\n",
              "    <path d=\"M18.56 5.44l.94 2.06.94-2.06 2.06-.94-2.06-.94-.94-2.06-.94 2.06-2.06.94zm-11 1L8.5 8.5l.94-2.06 2.06-.94-2.06-.94L8.5 2.5l-.94 2.06-2.06.94zm10 10l.94 2.06.94-2.06 2.06-.94-2.06-.94-.94-2.06-.94 2.06-2.06.94z\"/><path d=\"M17.41 7.96l-1.37-1.37c-.4-.4-.92-.59-1.43-.59-.52 0-1.04.2-1.43.59L10.3 9.45l-7.72 7.72c-.78.78-.78 2.05 0 2.83L4 21.41c.39.39.9.59 1.41.59.51 0 1.02-.2 1.41-.59l7.78-7.78 2.81-2.81c.8-.78.8-2.07 0-2.86zM5.41 20L4 18.59l7.72-7.72 1.47 1.35L5.41 20z\"/>\n",
              "  </svg>\n",
              "      </button>\n",
              "      \n",
              "  <style>\n",
              "    .colab-df-container {\n",
              "      display:flex;\n",
              "      flex-wrap:wrap;\n",
              "      gap: 12px;\n",
              "    }\n",
              "\n",
              "    .colab-df-convert {\n",
              "      background-color: #E8F0FE;\n",
              "      border: none;\n",
              "      border-radius: 50%;\n",
              "      cursor: pointer;\n",
              "      display: none;\n",
              "      fill: #1967D2;\n",
              "      height: 32px;\n",
              "      padding: 0 0 0 0;\n",
              "      width: 32px;\n",
              "    }\n",
              "\n",
              "    .colab-df-convert:hover {\n",
              "      background-color: #E2EBFA;\n",
              "      box-shadow: 0px 1px 2px rgba(60, 64, 67, 0.3), 0px 1px 3px 1px rgba(60, 64, 67, 0.15);\n",
              "      fill: #174EA6;\n",
              "    }\n",
              "\n",
              "    [theme=dark] .colab-df-convert {\n",
              "      background-color: #3B4455;\n",
              "      fill: #D2E3FC;\n",
              "    }\n",
              "\n",
              "    [theme=dark] .colab-df-convert:hover {\n",
              "      background-color: #434B5C;\n",
              "      box-shadow: 0px 1px 3px 1px rgba(0, 0, 0, 0.15);\n",
              "      filter: drop-shadow(0px 1px 2px rgba(0, 0, 0, 0.3));\n",
              "      fill: #FFFFFF;\n",
              "    }\n",
              "  </style>\n",
              "\n",
              "      <script>\n",
              "        const buttonEl =\n",
              "          document.querySelector('#df-5ee69453-3af1-402a-a39f-4cf0184090f1 button.colab-df-convert');\n",
              "        buttonEl.style.display =\n",
              "          google.colab.kernel.accessAllowed ? 'block' : 'none';\n",
              "\n",
              "        async function convertToInteractive(key) {\n",
              "          const element = document.querySelector('#df-5ee69453-3af1-402a-a39f-4cf0184090f1');\n",
              "          const dataTable =\n",
              "            await google.colab.kernel.invokeFunction('convertToInteractive',\n",
              "                                                     [key], {});\n",
              "          if (!dataTable) return;\n",
              "\n",
              "          const docLinkHtml = 'Like what you see? Visit the ' +\n",
              "            '<a target=\"_blank\" href=https://colab.research.google.com/notebooks/data_table.ipynb>data table notebook</a>'\n",
              "            + ' to learn more about interactive tables.';\n",
              "          element.innerHTML = '';\n",
              "          dataTable['output_type'] = 'display_data';\n",
              "          await google.colab.output.renderOutput(dataTable, element);\n",
              "          const docLink = document.createElement('div');\n",
              "          docLink.innerHTML = docLinkHtml;\n",
              "          element.appendChild(docLink);\n",
              "        }\n",
              "      </script>\n",
              "    </div>\n",
              "  </div>\n",
              "  "
            ]
          },
          "metadata": {},
          "execution_count": 7
        }
      ]
    },
    {
      "cell_type": "code",
      "source": [
        "MSFT_NEW.info()"
      ],
      "metadata": {
        "colab": {
          "base_uri": "https://localhost:8080/"
        },
        "id": "K7PM96_pL-8x",
        "outputId": "2788c560-2a3b-4b5d-e4ac-01c130163e9b"
      },
      "execution_count": 8,
      "outputs": [
        {
          "output_type": "stream",
          "name": "stdout",
          "text": [
            "<class 'pandas.core.frame.DataFrame'>\n",
            "Int64Index: 1259 entries, 0 to 1258\n",
            "Data columns (total 7 columns):\n",
            " #   Column     Non-Null Count  Dtype  \n",
            "---  ------     --------------  -----  \n",
            " 0   Date       1259 non-null   object \n",
            " 1   Open       1259 non-null   float64\n",
            " 2   High       1259 non-null   float64\n",
            " 3   Low        1259 non-null   float64\n",
            " 4   Close      1259 non-null   float64\n",
            " 5   Adj Close  1259 non-null   float64\n",
            " 6   Volume     1259 non-null   int64  \n",
            "dtypes: float64(5), int64(1), object(1)\n",
            "memory usage: 78.7+ KB\n"
          ]
        }
      ]
    },
    {
      "cell_type": "code",
      "source": [
        "MSFT_NEW['Close']=pd.to_numeric(MSFT_NEW.Close,errors='coerce')\n",
        "MSFT_NEW = MSFT_NEW.dropna()\n",
        "MSFT_TRAIN = MSFT_NEW.iloc[:,4:5].values"
      ],
      "metadata": {
        "id": "5qd2S9_TL--L"
      },
      "execution_count": 9,
      "outputs": []
    },
    {
      "cell_type": "code",
      "source": [
        "MSFT_NEW.info()"
      ],
      "metadata": {
        "colab": {
          "base_uri": "https://localhost:8080/"
        },
        "id": "rKHz-HO5L-_o",
        "outputId": "2329c198-f4c2-4ecb-99b8-75d491902b4c"
      },
      "execution_count": 10,
      "outputs": [
        {
          "output_type": "stream",
          "name": "stdout",
          "text": [
            "<class 'pandas.core.frame.DataFrame'>\n",
            "Int64Index: 1259 entries, 0 to 1258\n",
            "Data columns (total 7 columns):\n",
            " #   Column     Non-Null Count  Dtype  \n",
            "---  ------     --------------  -----  \n",
            " 0   Date       1259 non-null   object \n",
            " 1   Open       1259 non-null   float64\n",
            " 2   High       1259 non-null   float64\n",
            " 3   Low        1259 non-null   float64\n",
            " 4   Close      1259 non-null   float64\n",
            " 5   Adj Close  1259 non-null   float64\n",
            " 6   Volume     1259 non-null   int64  \n",
            "dtypes: float64(5), int64(1), object(1)\n",
            "memory usage: 78.7+ KB\n"
          ]
        }
      ]
    },
    {
      "cell_type": "code",
      "source": [
        "sc = MinMaxScaler(feature_range=(0,1))\n",
        "MSFT_TRAIN = sc.fit_transform(MSFT_TRAIN)\n",
        "MSFT_TRAIN.shape"
      ],
      "metadata": {
        "colab": {
          "base_uri": "https://localhost:8080/"
        },
        "id": "ohF4Zp-VL_A5",
        "outputId": "46a6162c-9c02-4ccf-e836-3187163cc493"
      },
      "execution_count": 11,
      "outputs": [
        {
          "output_type": "execute_result",
          "data": {
            "text/plain": [
              "(1259, 1)"
            ]
          },
          "metadata": {},
          "execution_count": 11
        }
      ]
    },
    {
      "cell_type": "code",
      "source": [
        "x_train = []\n",
        "y_train = []\n",
        "\n",
        "for i in range (60,1227):\n",
        "  x_train.append(MSFT_TRAIN[i-60:i,0])\n",
        "  y_train.append(MSFT_TRAIN[i,0])\n",
        "\n",
        "x_train, y_train = np.array(x_train), np.array(y_train)"
      ],
      "metadata": {
        "id": "wv81FUn8L_CM"
      },
      "execution_count": 12,
      "outputs": []
    },
    {
      "cell_type": "code",
      "source": [
        "x_train = np.reshape(x_train,(x_train.shape[0],x_train.shape[1],1))\n",
        "x_train.shape"
      ],
      "metadata": {
        "colab": {
          "base_uri": "https://localhost:8080/"
        },
        "id": "uDt4RRB6L_DE",
        "outputId": "28d7e4b4-ec32-4934-87f0-5b14690a2d21"
      },
      "execution_count": 13,
      "outputs": [
        {
          "output_type": "execute_result",
          "data": {
            "text/plain": [
              "(1167, 60, 1)"
            ]
          },
          "metadata": {},
          "execution_count": 13
        }
      ]
    },
    {
      "cell_type": "code",
      "source": [
        "model = Sequential()\n",
        "\n",
        "model.add(LSTM(units=100, return_sequences= True, input_shape=(x_train.shape[1],1)))\n",
        "model.add(Dropout(0.2))\n",
        "\n",
        "model.add(LSTM(units=100, return_sequences= True))\n",
        "model.add(Dropout(0.2))\n",
        "\n",
        "\n",
        "model.add(LSTM(units=100, return_sequences= True))\n",
        "model.add(Dropout(0.2))\n",
        "\n",
        "\n",
        "model.add(LSTM(units=100, return_sequences= False))\n",
        "model.add(Dropout(0.2))\n",
        "\n",
        "\n",
        "model.add(Dense(units=1))\n",
        "model.compile(optimizer='adam', loss='mean_squared_error')"
      ],
      "metadata": {
        "id": "TaeWAhwbL_Ev"
      },
      "execution_count": 14,
      "outputs": []
    },
    {
      "cell_type": "code",
      "source": [
        "hist = model.fit(x_train, y_train, epochs=20, batch_size=32, verbose=2)"
      ],
      "metadata": {
        "colab": {
          "base_uri": "https://localhost:8080/"
        },
        "id": "BgpD0QwpL_F_",
        "outputId": "fa97c9e9-91ce-4e96-9efc-cc3c446feb31"
      },
      "execution_count": 15,
      "outputs": [
        {
          "output_type": "stream",
          "name": "stdout",
          "text": [
            "Epoch 1/20\n",
            "37/37 - 16s - loss: 0.0150 - 16s/epoch - 426ms/step\n",
            "Epoch 2/20\n",
            "37/37 - 7s - loss: 0.0029 - 7s/epoch - 195ms/step\n",
            "Epoch 3/20\n",
            "37/37 - 7s - loss: 0.0022 - 7s/epoch - 199ms/step\n",
            "Epoch 4/20\n",
            "37/37 - 7s - loss: 0.0025 - 7s/epoch - 192ms/step\n",
            "Epoch 5/20\n",
            "37/37 - 7s - loss: 0.0035 - 7s/epoch - 196ms/step\n",
            "Epoch 6/20\n",
            "37/37 - 7s - loss: 0.0020 - 7s/epoch - 194ms/step\n",
            "Epoch 7/20\n",
            "37/37 - 7s - loss: 0.0020 - 7s/epoch - 201ms/step\n",
            "Epoch 8/20\n",
            "37/37 - 7s - loss: 0.0017 - 7s/epoch - 195ms/step\n",
            "Epoch 9/20\n",
            "37/37 - 8s - loss: 0.0021 - 8s/epoch - 209ms/step\n",
            "Epoch 10/20\n",
            "37/37 - 8s - loss: 0.0025 - 8s/epoch - 203ms/step\n",
            "Epoch 11/20\n",
            "37/37 - 7s - loss: 0.0017 - 7s/epoch - 201ms/step\n",
            "Epoch 12/20\n",
            "37/37 - 7s - loss: 0.0020 - 7s/epoch - 196ms/step\n",
            "Epoch 13/20\n",
            "37/37 - 7s - loss: 0.0016 - 7s/epoch - 203ms/step\n",
            "Epoch 14/20\n",
            "37/37 - 9s - loss: 0.0024 - 9s/epoch - 240ms/step\n",
            "Epoch 15/20\n",
            "37/37 - 8s - loss: 0.0020 - 8s/epoch - 206ms/step\n",
            "Epoch 16/20\n",
            "37/37 - 7s - loss: 0.0019 - 7s/epoch - 200ms/step\n",
            "Epoch 17/20\n",
            "37/37 - 7s - loss: 0.0017 - 7s/epoch - 201ms/step\n",
            "Epoch 18/20\n",
            "37/37 - 7s - loss: 0.0013 - 7s/epoch - 195ms/step\n",
            "Epoch 19/20\n",
            "37/37 - 7s - loss: 0.0014 - 7s/epoch - 195ms/step\n",
            "Epoch 20/20\n",
            "37/37 - 7s - loss: 0.0014 - 7s/epoch - 199ms/step\n"
          ]
        }
      ]
    },
    {
      "cell_type": "code",
      "source": [
        "plt.plot(hist.history['loss'])\n",
        "plt.title('Training model loss')\n",
        "plt.ylabel('Loss')\n",
        "plt.xlabel('epoch')\n",
        "plt.legend(['train'],loc='upper left')\n",
        "plt.show()"
      ],
      "metadata": {
        "colab": {
          "base_uri": "https://localhost:8080/",
          "height": 295
        },
        "id": "9SzuWhm5L_HD",
        "outputId": "3c232f48-4188-4f54-d8ff-c8f60c936582"
      },
      "execution_count": 16,
      "outputs": [
        {
          "output_type": "display_data",
          "data": {
            "text/plain": [
              "<Figure size 432x288 with 1 Axes>"
            ],
            "image/png": "[encoded data removed]"
          },
          "metadata": {
            "needs_background": "light"
          }
        }
      ]
    },
    {
      "cell_type": "code",
      "source": [
        "MSFT_NEW.columns"
      ],
      "metadata": {
        "colab": {
          "base_uri": "https://localhost:8080/"
        },
        "id": "ufLCP35FL_IU",
        "outputId": "b41e6725-4e22-4bf5-f118-9de2c18ffd6e"
      },
      "execution_count": 17,
      "outputs": [
        {
          "output_type": "execute_result",
          "data": {
            "text/plain": [
              "Index(['Date', 'Open', 'High', 'Low', 'Close', 'Adj Close', 'Volume'], dtype='object')"
            ]
          },
          "metadata": {},
          "execution_count": 17
        }
      ]
    },
    {
      "cell_type": "code",
      "source": [
        "MSFT_TEST = pd.read_csv(\"/content/drive/MyDrive/DS 340W/Final Research Paper/Datasets/MSFT_5Y.csv\")\n",
        "MSFT_TEST[\"Close\"]=pd.to_numeric(MSFT_TEST.Close, errors='coerce')\n",
        "MSFT_TEST = MSFT_TEST.dropna()\n",
        "MSFT_TEST = MSFT_TEST.iloc[:,4:5]\n",
        "y_test = MSFT_TEST.iloc[60:,0:].values\n",
        "\n",
        "inputClosing = MSFT_TEST.iloc[:,0:].values\n",
        "inputClosing_scaled = sc.transform(inputClosing)\n",
        "inputClosing_scaled.shape\n",
        "x_test = []\n",
        "length = len(MSFT_TEST)\n",
        "timestep = 60\n",
        "for i in range (timestep, length):\n",
        "  x_test.append(inputClosing_scaled[i-timestep:i,0])\n",
        "x_test = np.array(x_test)\n",
        "x_test = np.reshape(x_test, (x_test.shape[0],x_test.shape[1],1))\n",
        "x_test.shape"
      ],
      "metadata": {
        "colab": {
          "base_uri": "https://localhost:8080/"
        },
        "id": "jRV-WAcaL_JQ",
        "outputId": "020a816f-62e5-40a1-f49e-f6c1b1f5813c"
      },
      "execution_count": 18,
      "outputs": [
        {
          "output_type": "execute_result",
          "data": {
            "text/plain": [
              "(1199, 60, 1)"
            ]
          },
          "metadata": {},
          "execution_count": 18
        }
      ]
    },
    {
      "cell_type": "code",
      "source": [
        "y_predict = model.predict(x_test)\n",
        "y_predict"
      ],
      "metadata": {
        "colab": {
          "base_uri": "https://localhost:8080/"
        },
        "id": "OEQHmyrGL_K7",
        "outputId": "2160d998-264b-4d9c-ed90-c694b8e30cf9"
      },
      "execution_count": 19,
      "outputs": [
        {
          "output_type": "execute_result",
          "data": {
            "text/plain": [
              "array([[0.02785837],\n",
              "       [0.02783712],\n",
              "       [0.02765567],\n",
              "       ...,\n",
              "       [0.7586801 ],\n",
              "       [0.756587  ],\n",
              "       [0.7561466 ]], dtype=float32)"
            ]
          },
          "metadata": {},
          "execution_count": 19
        }
      ]
    },
    {
      "cell_type": "code",
      "source": [
        "predicted_price = sc.inverse_transform(y_predict)"
      ],
      "metadata": {
        "id": "aaK8m4EjL_L3"
      },
      "execution_count": 20,
      "outputs": []
    },
    {
      "cell_type": "code",
      "source": [
        "plt.plot(y_test, color='red', label='ACTUAL STOCK PRICE')\n",
        "plt.plot(predicted_price, color='green', label='PREDICTED STOCK PRICE')\n",
        "plt.title('LSTM MSFT STOCK PRICE PREDICTION')\n",
        "plt.xlabel('TIME')\n",
        "plt.ylabel('STOCK PRICE')\n",
        "plt.legend()\n",
        "plt.xlim([1000, 1200])\n",
        "plt.show()"
      ],
      "metadata": {
        "colab": {
          "base_uri": "https://localhost:8080/",
          "height": 295
        },
        "id": "QR5V_Fc8Mmud",
        "outputId": "d4d132e8-6cf7-4983-c53c-c12dfe269f87"
      },
      "execution_count": 21,
      "outputs": [
        {
          "output_type": "display_data",
          "data": {
            "text/plain": [
              "<Figure size 432x288 with 1 Axes>"
            ],
            "image/png": "[encoded data removed]"
          },
          "metadata": {
            "needs_background": "light"
          }
        }
      ]
    },
    {
      "cell_type": "code",
      "source": [
        "from sklearn import metrics"
      ],
      "metadata": {
        "id": "clV_9CesPWC-"
      },
      "execution_count": 22,
      "outputs": []
    },
    {
      "cell_type": "code",
      "source": [
        ""
      ],
      "metadata": {
        "id": "9QwMNCnuP4fr"
      },
      "execution_count": null,
      "outputs": []
    }
  ]
}