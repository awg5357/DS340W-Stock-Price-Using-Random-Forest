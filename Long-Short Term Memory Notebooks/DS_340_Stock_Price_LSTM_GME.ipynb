{
  "nbformat": 4,
  "nbformat_minor": 0,
  "metadata": {
    "colab": {
      "name": "DS_340_Stock_Price_LSTM_GME.ipynb",
      "provenance": []
    },
    "kernelspec": {
      "name": "python3",
      "display_name": "Python 3"
    },
    "language_info": {
      "name": "python"
    }
  },
  "cells": [
    {
      "cell_type": "code",
      "execution_count": null,
      "metadata": {
        "id": "GF_PQPs4LJ4d"
      },
      "outputs": [],
      "source": [
        "import pandas as pd\n",
        "import numpy as np\n",
        "import matplotlib.pyplot as plt\n",
        "from sklearn.preprocessing import MinMaxScaler\n",
        "from keras.models import Sequential\n",
        "from keras.layers import Dense, LSTM, Dropout"
      ]
    },
    {
      "cell_type": "code",
      "source": [
        "GME = pd.read_csv(\"/content/drive/MyDrive/DS 340W/Final Research Paper/Datasets/GME_5Y.csv\")"
      ],
      "metadata": {
        "id": "EAAEIRjsL-yo"
      },
      "execution_count": null,
      "outputs": []
    },
    {
      "cell_type": "code",
      "source": [
        "GME.head(10)"
      ],
      "metadata": {
        "colab": {
          "base_uri": "https://localhost:8080/",
          "height": 363
        },
        "id": "nI1GX5-6L-1Q",
        "outputId": "13b321af-7b09-4fc9-c807-e1a32f1b5b41"
      },
      "execution_count": null,
      "outputs": [
        {
          "output_type": "execute_result",
          "data": {
            "text/plain": [
              "         Date       Open       High        Low      Close  Adj Close    Volume\n",
              "0  2017-03-23  24.150000  24.440001  23.799999  23.959999  19.785828   4662200\n",
              "1  2017-03-24  21.370001  21.559999  20.660000  20.700001  17.093767  15944600\n",
              "2  2017-03-27  20.330000  21.090000  20.240000  20.850000  17.217636   6962300\n",
              "3  2017-03-28  20.879999  21.780001  20.730000  21.719999  17.936069   4278600\n",
              "4  2017-03-29  21.780001  22.139999  21.570000  21.950001  18.126001   3258300\n",
              "5  2017-03-30  21.900000  22.490000  21.860001  22.459999  18.547148   2222000\n",
              "6  2017-03-31  22.459999  22.740000  22.370001  22.549999  18.621469   2934200\n",
              "7  2017-04-03  22.520000  22.620001  21.920000  22.000000  18.167290   2709100\n",
              "8  2017-04-04  21.940001  22.209999  21.740000  21.980000  18.150772   2237000\n",
              "9  2017-04-05  22.190001  22.290001  21.740000  21.760000  17.969097   2168900"
            ],
            "text/html": [
              "\n",
              "  <div id=\"df-215448fa-334b-464a-8ef3-3a0f73c74212\">\n",
              "    <div class=\"colab-df-container\">\n",
              "      <div>\n",
              "<style scoped>\n",
              "    .dataframe tbody tr th:only-of-type {\n",
              "        vertical-align: middle;\n",
              "    }\n",
              "\n",
              "    .dataframe tbody tr th {\n",
              "        vertical-align: top;\n",
              "    }\n",
              "\n",
              "    .dataframe thead th {\n",
              "        text-align: right;\n",
              "    }\n",
              "</style>\n",
              "<table border=\"1\" class=\"dataframe\">\n",
              "  <thead>\n",
              "    <tr style=\"text-align: right;\">\n",
              "      <th></th>\n",
              "      <th>Date</th>\n",
              "      <th>Open</th>\n",
              "      <th>High</th>\n",
              "      <th>Low</th>\n",
              "      <th>Close</th>\n",
              "      <th>Adj Close</th>\n",
              "      <th>Volume</th>\n",
              "    </tr>\n",
              "  </thead>\n",
              "  <tbody>\n",
              "    <tr>\n",
              "      <th>0</th>\n",
              "      <td>2017-03-23</td>\n",
              "      <td>24.150000</td>\n",
              "      <td>24.440001</td>\n",
              "      <td>23.799999</td>\n",
              "      <td>23.959999</td>\n",
              "      <td>19.785828</td>\n",
              "      <td>4662200</td>\n",
              "    </tr>\n",
              "    <tr>\n",
              "      <th>1</th>\n",
              "      <td>2017-03-24</td>\n",
              "      <td>21.370001</td>\n",
              "      <td>21.559999</td>\n",
              "      <td>20.660000</td>\n",
              "      <td>20.700001</td>\n",
              "      <td>17.093767</td>\n",
              "      <td>15944600</td>\n",
              "    </tr>\n",
              "    <tr>\n",
              "      <th>2</th>\n",
              "      <td>2017-03-27</td>\n",
              "      <td>20.330000</td>\n",
              "      <td>21.090000</td>\n",
              "      <td>20.240000</td>\n",
              "      <td>20.850000</td>\n",
              "      <td>17.217636</td>\n",
              "      <td>6962300</td>\n",
              "    </tr>\n",
              "    <tr>\n",
              "      <th>3</th>\n",
              "      <td>2017-03-28</td>\n",
              "      <td>20.879999</td>\n",
              "      <td>21.780001</td>\n",
              "      <td>20.730000</td>\n",
              "      <td>21.719999</td>\n",
              "      <td>17.936069</td>\n",
              "      <td>4278600</td>\n",
              "    </tr>\n",
              "    <tr>\n",
              "      <th>4</th>\n",
              "      <td>2017-03-29</td>\n",
              "      <td>21.780001</td>\n",
              "      <td>22.139999</td>\n",
              "      <td>21.570000</td>\n",
              "      <td>21.950001</td>\n",
              "      <td>18.126001</td>\n",
              "      <td>3258300</td>\n",
              "    </tr>\n",
              "    <tr>\n",
              "      <th>5</th>\n",
              "      <td>2017-03-30</td>\n",
              "      <td>21.900000</td>\n",
              "      <td>22.490000</td>\n",
              "      <td>21.860001</td>\n",
              "      <td>22.459999</td>\n",
              "      <td>18.547148</td>\n",
              "      <td>2222000</td>\n",
              "    </tr>\n",
              "    <tr>\n",
              "      <th>6</th>\n",
              "      <td>2017-03-31</td>\n",
              "      <td>22.459999</td>\n",
              "      <td>22.740000</td>\n",
              "      <td>22.370001</td>\n",
              "      <td>22.549999</td>\n",
              "      <td>18.621469</td>\n",
              "      <td>2934200</td>\n",
              "    </tr>\n",
              "    <tr>\n",
              "      <th>7</th>\n",
              "      <td>2017-04-03</td>\n",
              "      <td>22.520000</td>\n",
              "      <td>22.620001</td>\n",
              "      <td>21.920000</td>\n",
              "      <td>22.000000</td>\n",
              "      <td>18.167290</td>\n",
              "      <td>2709100</td>\n",
              "    </tr>\n",
              "    <tr>\n",
              "      <th>8</th>\n",
              "      <td>2017-04-04</td>\n",
              "      <td>21.940001</td>\n",
              "      <td>22.209999</td>\n",
              "      <td>21.740000</td>\n",
              "      <td>21.980000</td>\n",
              "      <td>18.150772</td>\n",
              "      <td>2237000</td>\n",
              "    </tr>\n",
              "    <tr>\n",
              "      <th>9</th>\n",
              "      <td>2017-04-05</td>\n",
              "      <td>22.190001</td>\n",
              "      <td>22.290001</td>\n",
              "      <td>21.740000</td>\n",
              "      <td>21.760000</td>\n",
              "      <td>17.969097</td>\n",
              "      <td>2168900</td>\n",
              "    </tr>\n",
              "  </tbody>\n",
              "</table>\n",
              "</div>\n",
              "      <button class=\"colab-df-convert\" onclick=\"convertToInteractive('df-215448fa-334b-464a-8ef3-3a0f73c74212')\"\n",
              "              title=\"Convert this dataframe to an interactive table.\"\n",
              "              style=\"display:none;\">\n",
              "        \n",
              "  <svg xmlns=\"http://www.w3.org/2000/svg\" height=\"24px\"viewBox=\"0 0 24 24\"\n",
              "       width=\"24px\">\n",
              "    <path d=\"M0 0h24v24H0V0z\" fill=\"none\"/>\n",
              "    <path d=\"M18.56 5.44l.94 2.06.94-2.06 2.06-.94-2.06-.94-.94-2.06-.94 2.06-2.06.94zm-11 1L8.5 8.5l.94-2.06 2.06-.94-2.06-.94L8.5 2.5l-.94 2.06-2.06.94zm10 10l.94 2.06.94-2.06 2.06-.94-2.06-.94-.94-2.06-.94 2.06-2.06.94z\"/><path d=\"M17.41 7.96l-1.37-1.37c-.4-.4-.92-.59-1.43-.59-.52 0-1.04.2-1.43.59L10.3 9.45l-7.72 7.72c-.78.78-.78 2.05 0 2.83L4 21.41c.39.39.9.59 1.41.59.51 0 1.02-.2 1.41-.59l7.78-7.78 2.81-2.81c.8-.78.8-2.07 0-2.86zM5.41 20L4 18.59l7.72-7.72 1.47 1.35L5.41 20z\"/>\n",
              "  </svg>\n",
              "      </button>\n",
              "      \n",
              "  <style>\n",
              "    .colab-df-container {\n",
              "      display:flex;\n",
              "      flex-wrap:wrap;\n",
              "      gap: 12px;\n",
              "    }\n",
              "\n",
              "    .colab-df-convert {\n",
              "      background-color: #E8F0FE;\n",
              "      border: none;\n",
              "      border-radius: 50%;\n",
              "      cursor: pointer;\n",
              "      display: none;\n",
              "      fill: #1967D2;\n",
              "      height: 32px;\n",
              "      padding: 0 0 0 0;\n",
              "      width: 32px;\n",
              "    }\n",
              "\n",
              "    .colab-df-convert:hover {\n",
              "      background-color: #E2EBFA;\n",
              "      box-shadow: 0px 1px 2px rgba(60, 64, 67, 0.3), 0px 1px 3px 1px rgba(60, 64, 67, 0.15);\n",
              "      fill: #174EA6;\n",
              "    }\n",
              "\n",
              "    [theme=dark] .colab-df-convert {\n",
              "      background-color: #3B4455;\n",
              "      fill: #D2E3FC;\n",
              "    }\n",
              "\n",
              "    [theme=dark] .colab-df-convert:hover {\n",
              "      background-color: #434B5C;\n",
              "      box-shadow: 0px 1px 3px 1px rgba(0, 0, 0, 0.15);\n",
              "      filter: drop-shadow(0px 1px 2px rgba(0, 0, 0, 0.3));\n",
              "      fill: #FFFFFF;\n",
              "    }\n",
              "  </style>\n",
              "\n",
              "      <script>\n",
              "        const buttonEl =\n",
              "          document.querySelector('#df-215448fa-334b-464a-8ef3-3a0f73c74212 button.colab-df-convert');\n",
              "        buttonEl.style.display =\n",
              "          google.colab.kernel.accessAllowed ? 'block' : 'none';\n",
              "\n",
              "        async function convertToInteractive(key) {\n",
              "          const element = document.querySelector('#df-215448fa-334b-464a-8ef3-3a0f73c74212');\n",
              "          const dataTable =\n",
              "            await google.colab.kernel.invokeFunction('convertToInteractive',\n",
              "                                                     [key], {});\n",
              "          if (!dataTable) return;\n",
              "\n",
              "          const docLinkHtml = 'Like what you see? Visit the ' +\n",
              "            '<a target=\"_blank\" href=https://colab.research.google.com/notebooks/data_table.ipynb>data table notebook</a>'\n",
              "            + ' to learn more about interactive tables.';\n",
              "          element.innerHTML = '';\n",
              "          dataTable['output_type'] = 'display_data';\n",
              "          await google.colab.output.renderOutput(dataTable, element);\n",
              "          const docLink = document.createElement('div');\n",
              "          docLink.innerHTML = docLinkHtml;\n",
              "          element.appendChild(docLink);\n",
              "        }\n",
              "      </script>\n",
              "    </div>\n",
              "  </div>\n",
              "  "
            ]
          },
          "metadata": {},
          "execution_count": 3
        }
      ]
    },
    {
      "cell_type": "code",
      "source": [
        "GME.info()"
      ],
      "metadata": {
        "colab": {
          "base_uri": "https://localhost:8080/"
        },
        "id": "To_cTCAqL-39",
        "outputId": "d903e587-feb9-49a0-dc82-20e66e88a542"
      },
      "execution_count": null,
      "outputs": [
        {
          "output_type": "stream",
          "name": "stdout",
          "text": [
            "<class 'pandas.core.frame.DataFrame'>\n",
            "RangeIndex: 1259 entries, 0 to 1258\n",
            "Data columns (total 7 columns):\n",
            " #   Column     Non-Null Count  Dtype  \n",
            "---  ------     --------------  -----  \n",
            " 0   Date       1259 non-null   object \n",
            " 1   Open       1259 non-null   float64\n",
            " 2   High       1259 non-null   float64\n",
            " 3   Low        1259 non-null   float64\n",
            " 4   Close      1259 non-null   float64\n",
            " 5   Adj Close  1259 non-null   float64\n",
            " 6   Volume     1259 non-null   int64  \n",
            "dtypes: float64(5), int64(1), object(1)\n",
            "memory usage: 69.0+ KB\n"
          ]
        }
      ]
    },
    {
      "cell_type": "code",
      "source": [
        "GME_NEW=GME.dropna(axis=0)\n",
        "GME_NEW"
      ],
      "metadata": {
        "colab": {
          "base_uri": "https://localhost:8080/",
          "height": 423
        },
        "id": "l3lL2Gu1L-7V",
        "outputId": "6965bd78-5039-4e69-9f92-a670b4defa56"
      },
      "execution_count": null,
      "outputs": [
        {
          "output_type": "execute_result",
          "data": {
            "text/plain": [
              "            Date       Open        High        Low       Close   Adj Close  \\\n",
              "0     2017-03-23  24.150000   24.440001  23.799999   23.959999   19.785828   \n",
              "1     2017-03-24  21.370001   21.559999  20.660000   20.700001   17.093767   \n",
              "2     2017-03-27  20.330000   21.090000  20.240000   20.850000   17.217636   \n",
              "3     2017-03-28  20.879999   21.780001  20.730000   21.719999   17.936069   \n",
              "4     2017-03-29  21.780001   22.139999  21.570000   21.950001   18.126001   \n",
              "...          ...        ...         ...        ...         ...         ...   \n",
              "1254  2022-03-16  85.110001   90.010002  82.000000   86.860001   86.860001   \n",
              "1255  2022-03-17  85.099998   89.580002  83.449997   87.699997   87.699997   \n",
              "1256  2022-03-18  79.739998   97.449997  78.900002   90.790001   90.790001   \n",
              "1257  2022-03-21  90.000000   99.400002  89.760002   94.199997   94.199997   \n",
              "1258  2022-03-22  95.400002  125.790001  94.449997  123.139999  123.139999   \n",
              "\n",
              "        Volume  \n",
              "0      4662200  \n",
              "1     15944600  \n",
              "2      6962300  \n",
              "3      4278600  \n",
              "4      3258300  \n",
              "...        ...  \n",
              "1254   2653900  \n",
              "1255   3449100  \n",
              "1256   8913800  \n",
              "1257   3953100  \n",
              "1258  15017200  \n",
              "\n",
              "[1259 rows x 7 columns]"
            ],
            "text/html": [
              "\n",
              "  <div id=\"df-7c2d8dd1-ee66-4c5e-9ac4-4c203e9872ee\">\n",
              "    <div class=\"colab-df-container\">\n",
              "      <div>\n",
              "<style scoped>\n",
              "    .dataframe tbody tr th:only-of-type {\n",
              "        vertical-align: middle;\n",
              "    }\n",
              "\n",
              "    .dataframe tbody tr th {\n",
              "        vertical-align: top;\n",
              "    }\n",
              "\n",
              "    .dataframe thead th {\n",
              "        text-align: right;\n",
              "    }\n",
              "</style>\n",
              "<table border=\"1\" class=\"dataframe\">\n",
              "  <thead>\n",
              "    <tr style=\"text-align: right;\">\n",
              "      <th></th>\n",
              "      <th>Date</th>\n",
              "      <th>Open</th>\n",
              "      <th>High</th>\n",
              "      <th>Low</th>\n",
              "      <th>Close</th>\n",
              "      <th>Adj Close</th>\n",
              "      <th>Volume</th>\n",
              "    </tr>\n",
              "  </thead>\n",
              "  <tbody>\n",
              "    <tr>\n",
              "      <th>0</th>\n",
              "      <td>2017-03-23</td>\n",
              "      <td>24.150000</td>\n",
              "      <td>24.440001</td>\n",
              "      <td>23.799999</td>\n",
              "      <td>23.959999</td>\n",
              "      <td>19.785828</td>\n",
              "      <td>4662200</td>\n",
              "    </tr>\n",
              "    <tr>\n",
              "      <th>1</th>\n",
              "      <td>2017-03-24</td>\n",
              "      <td>21.370001</td>\n",
              "      <td>21.559999</td>\n",
              "      <td>20.660000</td>\n",
              "      <td>20.700001</td>\n",
              "      <td>17.093767</td>\n",
              "      <td>15944600</td>\n",
              "    </tr>\n",
              "    <tr>\n",
              "      <th>2</th>\n",
              "      <td>2017-03-27</td>\n",
              "      <td>20.330000</td>\n",
              "      <td>21.090000</td>\n",
              "      <td>20.240000</td>\n",
              "      <td>20.850000</td>\n",
              "      <td>17.217636</td>\n",
              "      <td>6962300</td>\n",
              "    </tr>\n",
              "    <tr>\n",
              "      <th>3</th>\n",
              "      <td>2017-03-28</td>\n",
              "      <td>20.879999</td>\n",
              "      <td>21.780001</td>\n",
              "      <td>20.730000</td>\n",
              "      <td>21.719999</td>\n",
              "      <td>17.936069</td>\n",
              "      <td>4278600</td>\n",
              "    </tr>\n",
              "    <tr>\n",
              "      <th>4</th>\n",
              "      <td>2017-03-29</td>\n",
              "      <td>21.780001</td>\n",
              "      <td>22.139999</td>\n",
              "      <td>21.570000</td>\n",
              "      <td>21.950001</td>\n",
              "      <td>18.126001</td>\n",
              "      <td>3258300</td>\n",
              "    </tr>\n",
              "    <tr>\n",
              "      <th>...</th>\n",
              "      <td>...</td>\n",
              "      <td>...</td>\n",
              "      <td>...</td>\n",
              "      <td>...</td>\n",
              "      <td>...</td>\n",
              "      <td>...</td>\n",
              "      <td>...</td>\n",
              "    </tr>\n",
              "    <tr>\n",
              "      <th>1254</th>\n",
              "      <td>2022-03-16</td>\n",
              "      <td>85.110001</td>\n",
              "      <td>90.010002</td>\n",
              "      <td>82.000000</td>\n",
              "      <td>86.860001</td>\n",
              "      <td>86.860001</td>\n",
              "      <td>2653900</td>\n",
              "    </tr>\n",
              "    <tr>\n",
              "      <th>1255</th>\n",
              "      <td>2022-03-17</td>\n",
              "      <td>85.099998</td>\n",
              "      <td>89.580002</td>\n",
              "      <td>83.449997</td>\n",
              "      <td>87.699997</td>\n",
              "      <td>87.699997</td>\n",
              "      <td>3449100</td>\n",
              "    </tr>\n",
              "    <tr>\n",
              "      <th>1256</th>\n",
              "      <td>2022-03-18</td>\n",
              "      <td>79.739998</td>\n",
              "      <td>97.449997</td>\n",
              "      <td>78.900002</td>\n",
              "      <td>90.790001</td>\n",
              "      <td>90.790001</td>\n",
              "      <td>8913800</td>\n",
              "    </tr>\n",
              "    <tr>\n",
              "      <th>1257</th>\n",
              "      <td>2022-03-21</td>\n",
              "      <td>90.000000</td>\n",
              "      <td>99.400002</td>\n",
              "      <td>89.760002</td>\n",
              "      <td>94.199997</td>\n",
              "      <td>94.199997</td>\n",
              "      <td>3953100</td>\n",
              "    </tr>\n",
              "    <tr>\n",
              "      <th>1258</th>\n",
              "      <td>2022-03-22</td>\n",
              "      <td>95.400002</td>\n",
              "      <td>125.790001</td>\n",
              "      <td>94.449997</td>\n",
              "      <td>123.139999</td>\n",
              "      <td>123.139999</td>\n",
              "      <td>15017200</td>\n",
              "    </tr>\n",
              "  </tbody>\n",
              "</table>\n",
              "<p>1259 rows × 7 columns</p>\n",
              "</div>\n",
              "      <button class=\"colab-df-convert\" onclick=\"convertToInteractive('df-7c2d8dd1-ee66-4c5e-9ac4-4c203e9872ee')\"\n",
              "              title=\"Convert this dataframe to an interactive table.\"\n",
              "              style=\"display:none;\">\n",
              "        \n",
              "  <svg xmlns=\"http://www.w3.org/2000/svg\" height=\"24px\"viewBox=\"0 0 24 24\"\n",
              "       width=\"24px\">\n",
              "    <path d=\"M0 0h24v24H0V0z\" fill=\"none\"/>\n",
              "    <path d=\"M18.56 5.44l.94 2.06.94-2.06 2.06-.94-2.06-.94-.94-2.06-.94 2.06-2.06.94zm-11 1L8.5 8.5l.94-2.06 2.06-.94-2.06-.94L8.5 2.5l-.94 2.06-2.06.94zm10 10l.94 2.06.94-2.06 2.06-.94-2.06-.94-.94-2.06-.94 2.06-2.06.94z\"/><path d=\"M17.41 7.96l-1.37-1.37c-.4-.4-.92-.59-1.43-.59-.52 0-1.04.2-1.43.59L10.3 9.45l-7.72 7.72c-.78.78-.78 2.05 0 2.83L4 21.41c.39.39.9.59 1.41.59.51 0 1.02-.2 1.41-.59l7.78-7.78 2.81-2.81c.8-.78.8-2.07 0-2.86zM5.41 20L4 18.59l7.72-7.72 1.47 1.35L5.41 20z\"/>\n",
              "  </svg>\n",
              "      </button>\n",
              "      \n",
              "  <style>\n",
              "    .colab-df-container {\n",
              "      display:flex;\n",
              "      flex-wrap:wrap;\n",
              "      gap: 12px;\n",
              "    }\n",
              "\n",
              "    .colab-df-convert {\n",
              "      background-color: #E8F0FE;\n",
              "      border: none;\n",
              "      border-radius: 50%;\n",
              "      cursor: pointer;\n",
              "      display: none;\n",
              "      fill: #1967D2;\n",
              "      height: 32px;\n",
              "      padding: 0 0 0 0;\n",
              "      width: 32px;\n",
              "    }\n",
              "\n",
              "    .colab-df-convert:hover {\n",
              "      background-color: #E2EBFA;\n",
              "      box-shadow: 0px 1px 2px rgba(60, 64, 67, 0.3), 0px 1px 3px 1px rgba(60, 64, 67, 0.15);\n",
              "      fill: #174EA6;\n",
              "    }\n",
              "\n",
              "    [theme=dark] .colab-df-convert {\n",
              "      background-color: #3B4455;\n",
              "      fill: #D2E3FC;\n",
              "    }\n",
              "\n",
              "    [theme=dark] .colab-df-convert:hover {\n",
              "      background-color: #434B5C;\n",
              "      box-shadow: 0px 1px 3px 1px rgba(0, 0, 0, 0.15);\n",
              "      filter: drop-shadow(0px 1px 2px rgba(0, 0, 0, 0.3));\n",
              "      fill: #FFFFFF;\n",
              "    }\n",
              "  </style>\n",
              "\n",
              "      <script>\n",
              "        const buttonEl =\n",
              "          document.querySelector('#df-7c2d8dd1-ee66-4c5e-9ac4-4c203e9872ee button.colab-df-convert');\n",
              "        buttonEl.style.display =\n",
              "          google.colab.kernel.accessAllowed ? 'block' : 'none';\n",
              "\n",
              "        async function convertToInteractive(key) {\n",
              "          const element = document.querySelector('#df-7c2d8dd1-ee66-4c5e-9ac4-4c203e9872ee');\n",
              "          const dataTable =\n",
              "            await google.colab.kernel.invokeFunction('convertToInteractive',\n",
              "                                                     [key], {});\n",
              "          if (!dataTable) return;\n",
              "\n",
              "          const docLinkHtml = 'Like what you see? Visit the ' +\n",
              "            '<a target=\"_blank\" href=https://colab.research.google.com/notebooks/data_table.ipynb>data table notebook</a>'\n",
              "            + ' to learn more about interactive tables.';\n",
              "          element.innerHTML = '';\n",
              "          dataTable['output_type'] = 'display_data';\n",
              "          await google.colab.output.renderOutput(dataTable, element);\n",
              "          const docLink = document.createElement('div');\n",
              "          docLink.innerHTML = docLinkHtml;\n",
              "          element.appendChild(docLink);\n",
              "        }\n",
              "      </script>\n",
              "    </div>\n",
              "  </div>\n",
              "  "
            ]
          },
          "metadata": {},
          "execution_count": 5
        }
      ]
    },
    {
      "cell_type": "code",
      "source": [
        "GME_NEW.info()"
      ],
      "metadata": {
        "colab": {
          "base_uri": "https://localhost:8080/"
        },
        "id": "K7PM96_pL-8x",
        "outputId": "780ab79a-eea7-485d-fae3-64e9d7b5d635"
      },
      "execution_count": null,
      "outputs": [
        {
          "output_type": "stream",
          "name": "stdout",
          "text": [
            "<class 'pandas.core.frame.DataFrame'>\n",
            "Int64Index: 1259 entries, 0 to 1258\n",
            "Data columns (total 7 columns):\n",
            " #   Column     Non-Null Count  Dtype  \n",
            "---  ------     --------------  -----  \n",
            " 0   Date       1259 non-null   object \n",
            " 1   Open       1259 non-null   float64\n",
            " 2   High       1259 non-null   float64\n",
            " 3   Low        1259 non-null   float64\n",
            " 4   Close      1259 non-null   float64\n",
            " 5   Adj Close  1259 non-null   float64\n",
            " 6   Volume     1259 non-null   int64  \n",
            "dtypes: float64(5), int64(1), object(1)\n",
            "memory usage: 78.7+ KB\n"
          ]
        }
      ]
    },
    {
      "cell_type": "code",
      "source": [
        "GME_NEW['Close']=pd.to_numeric(GME_NEW.Close,errors='coerce')\n",
        "GME_NEW = GME_NEW.dropna()\n",
        "GME_TRAIN = GME_NEW.iloc[:,4:5].values"
      ],
      "metadata": {
        "id": "5qd2S9_TL--L"
      },
      "execution_count": null,
      "outputs": []
    },
    {
      "cell_type": "code",
      "source": [
        "GME_NEW.info()"
      ],
      "metadata": {
        "colab": {
          "base_uri": "https://localhost:8080/"
        },
        "id": "rKHz-HO5L-_o",
        "outputId": "b17d1861-17b4-4f48-a576-ee99fbd37ef8"
      },
      "execution_count": null,
      "outputs": [
        {
          "output_type": "stream",
          "name": "stdout",
          "text": [
            "<class 'pandas.core.frame.DataFrame'>\n",
            "Int64Index: 1259 entries, 0 to 1258\n",
            "Data columns (total 7 columns):\n",
            " #   Column     Non-Null Count  Dtype  \n",
            "---  ------     --------------  -----  \n",
            " 0   Date       1259 non-null   object \n",
            " 1   Open       1259 non-null   float64\n",
            " 2   High       1259 non-null   float64\n",
            " 3   Low        1259 non-null   float64\n",
            " 4   Close      1259 non-null   float64\n",
            " 5   Adj Close  1259 non-null   float64\n",
            " 6   Volume     1259 non-null   int64  \n",
            "dtypes: float64(5), int64(1), object(1)\n",
            "memory usage: 78.7+ KB\n"
          ]
        }
      ]
    },
    {
      "cell_type": "code",
      "source": [
        "sc = MinMaxScaler(feature_range=(0,1))\n",
        "GME_TRAIN = sc.fit_transform(GME_TRAIN)\n",
        "GME_TRAIN.shape"
      ],
      "metadata": {
        "colab": {
          "base_uri": "https://localhost:8080/"
        },
        "id": "ohF4Zp-VL_A5",
        "outputId": "09240e2a-fd40-454e-c266-7f3c95924171"
      },
      "execution_count": null,
      "outputs": [
        {
          "output_type": "execute_result",
          "data": {
            "text/plain": [
              "(1259, 1)"
            ]
          },
          "metadata": {},
          "execution_count": 9
        }
      ]
    },
    {
      "cell_type": "code",
      "source": [
        "x_train = []\n",
        "y_train = []\n",
        "\n",
        "for i in range (60,1227):\n",
        "  x_train.append(GME_TRAIN[i-60:i,0])\n",
        "  y_train.append(GME_TRAIN[i,0])\n",
        "\n",
        "x_train, y_train = np.array(x_train), np.array(y_train)"
      ],
      "metadata": {
        "id": "wv81FUn8L_CM"
      },
      "execution_count": null,
      "outputs": []
    },
    {
      "cell_type": "code",
      "source": [
        "x_train = np.reshape(x_train,(x_train.shape[0],x_train.shape[1],1))\n",
        "x_train.shape"
      ],
      "metadata": {
        "colab": {
          "base_uri": "https://localhost:8080/"
        },
        "id": "uDt4RRB6L_DE",
        "outputId": "d249ebdf-357a-482c-c2a2-847f49555460"
      },
      "execution_count": null,
      "outputs": [
        {
          "output_type": "execute_result",
          "data": {
            "text/plain": [
              "(1167, 60, 1)"
            ]
          },
          "metadata": {},
          "execution_count": 11
        }
      ]
    },
    {
      "cell_type": "code",
      "source": [
        "model = Sequential()\n",
        "\n",
        "model.add(LSTM(units=100, return_sequences= True, input_shape=(x_train.shape[1],1)))\n",
        "model.add(Dropout(0.2))\n",
        "\n",
        "model.add(LSTM(units=100, return_sequences= True))\n",
        "model.add(Dropout(0.2))\n",
        "\n",
        "\n",
        "model.add(LSTM(units=100, return_sequences= True))\n",
        "model.add(Dropout(0.2))\n",
        "\n",
        "\n",
        "model.add(LSTM(units=100, return_sequences= False))\n",
        "model.add(Dropout(0.2))\n",
        "\n",
        "\n",
        "model.add(Dense(units=1))\n",
        "model.compile(optimizer='adam', loss='mean_squared_error')"
      ],
      "metadata": {
        "id": "TaeWAhwbL_Ev"
      },
      "execution_count": null,
      "outputs": []
    },
    {
      "cell_type": "code",
      "source": [
        "hist = model.fit(x_train, y_train, epochs=20, batch_size=32, verbose=2)"
      ],
      "metadata": {
        "colab": {
          "base_uri": "https://localhost:8080/"
        },
        "id": "BgpD0QwpL_F_",
        "outputId": "f60d1b71-d948-46bf-d353-0dc1b308d2c2"
      },
      "execution_count": null,
      "outputs": [
        {
          "output_type": "stream",
          "name": "stdout",
          "text": [
            "Epoch 1/20\n",
            "37/37 - 14s - loss: 0.0113 - 14s/epoch - 391ms/step\n",
            "Epoch 2/20\n",
            "37/37 - 7s - loss: 0.0060 - 7s/epoch - 177ms/step\n",
            "Epoch 3/20\n",
            "37/37 - 7s - loss: 0.0053 - 7s/epoch - 178ms/step\n",
            "Epoch 4/20\n",
            "37/37 - 7s - loss: 0.0050 - 7s/epoch - 177ms/step\n",
            "Epoch 5/20\n",
            "37/37 - 7s - loss: 0.0047 - 7s/epoch - 178ms/step\n",
            "Epoch 6/20\n",
            "37/37 - 7s - loss: 0.0047 - 7s/epoch - 179ms/step\n",
            "Epoch 7/20\n",
            "37/37 - 7s - loss: 0.0043 - 7s/epoch - 179ms/step\n",
            "Epoch 8/20\n",
            "37/37 - 7s - loss: 0.0034 - 7s/epoch - 177ms/step\n",
            "Epoch 9/20\n",
            "37/37 - 7s - loss: 0.0038 - 7s/epoch - 181ms/step\n",
            "Epoch 10/20\n",
            "37/37 - 7s - loss: 0.0034 - 7s/epoch - 178ms/step\n",
            "Epoch 11/20\n",
            "37/37 - 7s - loss: 0.0031 - 7s/epoch - 176ms/step\n",
            "Epoch 12/20\n",
            "37/37 - 7s - loss: 0.0029 - 7s/epoch - 177ms/step\n",
            "Epoch 13/20\n",
            "37/37 - 7s - loss: 0.0036 - 7s/epoch - 177ms/step\n",
            "Epoch 14/20\n",
            "37/37 - 7s - loss: 0.0029 - 7s/epoch - 179ms/step\n",
            "Epoch 15/20\n",
            "37/37 - 7s - loss: 0.0030 - 7s/epoch - 179ms/step\n",
            "Epoch 16/20\n",
            "37/37 - 7s - loss: 0.0027 - 7s/epoch - 177ms/step\n",
            "Epoch 17/20\n",
            "37/37 - 7s - loss: 0.0023 - 7s/epoch - 176ms/step\n",
            "Epoch 18/20\n",
            "37/37 - 7s - loss: 0.0024 - 7s/epoch - 178ms/step\n",
            "Epoch 19/20\n",
            "37/37 - 7s - loss: 0.0023 - 7s/epoch - 178ms/step\n",
            "Epoch 20/20\n",
            "37/37 - 7s - loss: 0.0023 - 7s/epoch - 177ms/step\n"
          ]
        }
      ]
    },
    {
      "cell_type": "code",
      "source": [
        "plt.plot(hist.history['loss'])\n",
        "plt.title('Training model loss')\n",
        "plt.ylabel('Loss')\n",
        "plt.xlabel('epoch')\n",
        "plt.legend(['train'],loc='upper left')\n",
        "plt.show()"
      ],
      "metadata": {
        "colab": {
          "base_uri": "https://localhost:8080/",
          "height": 295
        },
        "id": "9SzuWhm5L_HD",
        "outputId": "dff1ec42-969b-481c-c89e-44b48e574d5f"
      },
      "execution_count": null,
      "outputs": [
        {
          "output_type": "display_data",
          "data": {
            "text/plain": [
              "<Figure size 432x288 with 1 Axes>"
            ],
            "image/png": "[encoded data removed]"
          },
          "metadata": {
            "needs_background": "light"
          }
        }
      ]
    },
    {
      "cell_type": "code",
      "source": [
        "GME_NEW.columns"
      ],
      "metadata": {
        "colab": {
          "base_uri": "https://localhost:8080/"
        },
        "id": "ufLCP35FL_IU",
        "outputId": "a2380805-5693-41a7-d8df-051dc0e4138b"
      },
      "execution_count": null,
      "outputs": [
        {
          "output_type": "execute_result",
          "data": {
            "text/plain": [
              "Index(['Date', 'Open', 'High', 'Low', 'Close', 'Adj Close', 'Volume'], dtype='object')"
            ]
          },
          "metadata": {},
          "execution_count": 15
        }
      ]
    },
    {
      "cell_type": "code",
      "source": [
        "GME_TEST = pd.read_csv(\"/content/drive/MyDrive/DS 340W/Final Research Paper/Datasets/GME_5Y.csv\")\n",
        "GME_TEST[\"Close\"]=pd.to_numeric(GME_TEST.Close, errors='coerce')\n",
        "GME_TEST = GME_TEST.dropna()\n",
        "GME_TEST = GME_TEST.iloc[:,4:5]\n",
        "y_test = GME_TEST.iloc[60:,0:].values\n",
        "\n",
        "inputClosing = GME_TEST.iloc[:,0:].values\n",
        "inputClosing_scaled = sc.transform(inputClosing)\n",
        "inputClosing_scaled.shape\n",
        "x_test = []\n",
        "length = len(GME_TEST)\n",
        "timestep = 60\n",
        "for i in range (timestep, length):\n",
        "  x_test.append(inputClosing_scaled[i-timestep:i,0])\n",
        "x_test = np.array(x_test)\n",
        "x_test = np.reshape(x_test, (x_test.shape[0],x_test.shape[1],1))\n",
        "x_test.shape"
      ],
      "metadata": {
        "colab": {
          "base_uri": "https://localhost:8080/"
        },
        "id": "jRV-WAcaL_JQ",
        "outputId": "64a34421-0781-4c11-da60-3c635e6d2980"
      },
      "execution_count": null,
      "outputs": [
        {
          "output_type": "execute_result",
          "data": {
            "text/plain": [
              "(1199, 60, 1)"
            ]
          },
          "metadata": {},
          "execution_count": 16
        }
      ]
    },
    {
      "cell_type": "code",
      "source": [
        "y_predict = model.predict(x_test)\n",
        "y_predict"
      ],
      "metadata": {
        "colab": {
          "base_uri": "https://localhost:8080/"
        },
        "id": "OEQHmyrGL_K7",
        "outputId": "489a0bf1-f840-41e4-aa07-9c27c981bc05"
      },
      "execution_count": null,
      "outputs": [
        {
          "output_type": "execute_result",
          "data": {
            "text/plain": [
              "array([[0.07448426],\n",
              "       [0.07350074],\n",
              "       [0.07252383],\n",
              "       ...,\n",
              "       [0.29057333],\n",
              "       [0.29519078],\n",
              "       [0.30499423]], dtype=float32)"
            ]
          },
          "metadata": {},
          "execution_count": 17
        }
      ]
    },
    {
      "cell_type": "code",
      "source": [
        "predicted_price = sc.inverse_transform(y_predict)"
      ],
      "metadata": {
        "id": "aaK8m4EjL_L3"
      },
      "execution_count": null,
      "outputs": []
    },
    {
      "cell_type": "code",
      "source": [
        "plt.figure(figsize=(10,5))\n",
        "plt.plot(y_test, color='red', label='ACTUAL STOCK PRICE')\n",
        "plt.plot(predicted_price, color='green', label='PREDICTED STOCK PRICE')\n",
        "plt.title('GME STOCK PRICE PREDICTION')\n",
        "plt.xlabel('TIME')\n",
        "plt.ylabel('STOCK PRICE')\n",
        "plt.legend()\n",
        "plt.xlim([1000, 1200])\n",
        "plt.show()"
      ],
      "metadata": {
        "colab": {
          "base_uri": "https://localhost:8080/",
          "height": 350
        },
        "id": "QR5V_Fc8Mmud",
        "outputId": "bccba4b7-21e1-4440-e1d0-cfb0b2a4be83"
      },
      "execution_count": null,
      "outputs": [
        {
          "output_type": "display_data",
          "data": {
            "text/plain": [
              "<Figure size 720x360 with 1 Axes>"
            ],
            "image/png": "[encoded data removed]"
          },
          "metadata": {
            "needs_background": "light"
          }
        }
      ]
    },
    {
      "cell_type": "code",
      "source": [
        "from sklearn import metrics"
      ],
      "metadata": {
        "id": "clV_9CesPWC-"
      },
      "execution_count": null,
      "outputs": []
    },
    {
      "cell_type": "code",
      "source": [
        ""
      ],
      "metadata": {
        "id": "9QwMNCnuP4fr"
      },
      "execution_count": null,
      "outputs": []
    }
  ]
}